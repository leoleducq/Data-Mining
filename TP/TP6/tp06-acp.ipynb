{
 "cells": [
  {
   "cell_type": "markdown",
   "id": "0b48c00a",
   "metadata": {},
   "source": [
    "# TP n°5 - Analyse en composantes principales\n",
    "\n",
    "Références utiles :\n",
    "- [Site scikit-learn - ACP](https://scikit-learn.org/stable/modules/generated/sklearn.decomposition.PCA.html)\n",
    "\n",
    "Objectif de ce TP:\n",
    "- Comprendre le principe de l'analyse en composantes principales en utilisant la bibliothèque Scikit-learn.\n",
    "- Réduire l'ensemble des composantes qui expliquent le dataset (nuage des points)."
   ]
  },
  {
   "cell_type": "markdown",
   "id": "930b5acf",
   "metadata": {},
   "source": [
    "# Présentation de l'ACP dans sklearn\n",
    "Avant d'appliquer une ACP, il est nécessaire de commencer par une standardisation des données afin de centrer et normaliser les données.\n",
    "\n",
    "[Le centrage et la réduction des variables (\"standardization\") avec scikit-learn](http://scikit-learn.org/stable/modules/preprocessing.html#standardization-or-mean-removal-and-variance-scaling)\n"
   ]
  },
  {
   "cell_type": "markdown",
   "metadata": {
    "collapsed": false
   },
   "source": [
    "## Question\n",
    "Récuperer le fichier `sales.csv` et construisez un dataset.\n",
    "Appliquer une ACP sur ce dataset.\n",
    "**NB:** Si nécessaire, vous pouvez commencer par une étape de preprocessing (transformation des variables)."
   ]
  },
  {
   "cell_type": "code",
   "execution_count": 1,
   "id": "60d618e7",
   "metadata": {},
   "outputs": [],
   "source": [
    "import pandas as pd\n",
    "from sklearn import preprocessing\n",
    "import numpy as np"
   ]
  },
  {
   "cell_type": "code",
   "execution_count": 3,
   "id": "6e1de464",
   "metadata": {},
   "outputs": [
    {
     "data": {
      "text/html": [
       "<div>\n",
       "<style scoped>\n",
       "    .dataframe tbody tr th:only-of-type {\n",
       "        vertical-align: middle;\n",
       "    }\n",
       "\n",
       "    .dataframe tbody tr th {\n",
       "        vertical-align: top;\n",
       "    }\n",
       "\n",
       "    .dataframe thead th {\n",
       "        text-align: right;\n",
       "    }\n",
       "</style>\n",
       "<table border=\"1\" class=\"dataframe\">\n",
       "  <thead>\n",
       "    <tr style=\"text-align: right;\">\n",
       "      <th></th>\n",
       "      <th>division</th>\n",
       "      <th>level of education</th>\n",
       "      <th>training level</th>\n",
       "      <th>work experience</th>\n",
       "      <th>salary</th>\n",
       "      <th>sales</th>\n",
       "    </tr>\n",
       "  </thead>\n",
       "  <tbody>\n",
       "    <tr>\n",
       "      <th>0</th>\n",
       "      <td>peripherals</td>\n",
       "      <td>some college</td>\n",
       "      <td>1</td>\n",
       "      <td>6</td>\n",
       "      <td>86465</td>\n",
       "      <td>374255</td>\n",
       "    </tr>\n",
       "    <tr>\n",
       "      <th>1</th>\n",
       "      <td>printers</td>\n",
       "      <td>associate's degree</td>\n",
       "      <td>1</td>\n",
       "      <td>8</td>\n",
       "      <td>94571</td>\n",
       "      <td>377561</td>\n",
       "    </tr>\n",
       "    <tr>\n",
       "      <th>2</th>\n",
       "      <td>printers</td>\n",
       "      <td>some college</td>\n",
       "      <td>1</td>\n",
       "      <td>11</td>\n",
       "      <td>110711</td>\n",
       "      <td>467281</td>\n",
       "    </tr>\n",
       "    <tr>\n",
       "      <th>3</th>\n",
       "      <td>office supplies</td>\n",
       "      <td>some college</td>\n",
       "      <td>2</td>\n",
       "      <td>0</td>\n",
       "      <td>60898</td>\n",
       "      <td>268977</td>\n",
       "    </tr>\n",
       "    <tr>\n",
       "      <th>4</th>\n",
       "      <td>printers</td>\n",
       "      <td>some college</td>\n",
       "      <td>2</td>\n",
       "      <td>9</td>\n",
       "      <td>103546</td>\n",
       "      <td>457900</td>\n",
       "    </tr>\n",
       "  </tbody>\n",
       "</table>\n",
       "</div>"
      ],
      "text/plain": [
       "          division  level of education  training level  work experience  \\\n",
       "0      peripherals        some college               1                6   \n",
       "1         printers  associate's degree               1                8   \n",
       "2         printers        some college               1               11   \n",
       "3  office supplies        some college               2                0   \n",
       "4         printers        some college               2                9   \n",
       "\n",
       "   salary   sales  \n",
       "0   86465  374255  \n",
       "1   94571  377561  \n",
       "2  110711  467281  \n",
       "3   60898  268977  \n",
       "4  103546  457900  "
      ]
     },
     "execution_count": 3,
     "metadata": {},
     "output_type": "execute_result"
    }
   ],
   "source": [
    "df = pd.read_csv(\"../datasets/sales.csv\")\n",
    "df.head()"
   ]
  },
  {
   "cell_type": "code",
   "execution_count": 18,
   "id": "b325ccce",
   "metadata": {},
   "outputs": [
    {
     "name": "stdout",
     "output_type": "stream",
     "text": [
      "Colonne : training level, moyenne : -0.01156806285176247, standard deviation : 0.23544806371684474\n",
      "Colonne : work experience, moyenne : 0.28487091419412947, standard deviation : 0.33899528145925806\n",
      "Colonne : salary, moyenne : 0.9781615857367671, standard deviation : 0.7398620579885353\n",
      "Colonne : sales, moyenne : -0.8701126289752721, standard deviation : 1.1161086401065223\n"
     ]
    }
   ],
   "source": [
    "X_train = df.drop([\"division\",\"level of education\"], axis=1)\n",
    "scaler = preprocessing.StandardScaler().fit_transform(X_train)\n",
    "for col, scaler in zip(X_train.columns, scaler) :\n",
    "    print(f\"Colonne : {col}, moyenne : {np.mean(scaler)}, standard deviation : {np.std(scaler)}\")"
   ]
  },
  {
   "cell_type": "markdown",
   "metadata": {
    "collapsed": false
   },
   "source": [
    "## Correction"
   ]
  },
  {
   "cell_type": "code",
   "execution_count": null,
   "id": "6b397787",
   "metadata": {},
   "outputs": [],
   "source": []
  },
  {
   "cell_type": "code",
   "execution_count": null,
   "id": "d873fcee",
   "metadata": {},
   "outputs": [],
   "source": []
  },
  {
   "attachments": {},
   "cell_type": "markdown",
   "metadata": {
    "collapsed": false
   },
   "source": [
    "### Question\n",
    "Afficher avec un `print` le pourcentage de variance expliquée pour chaque composante principale de l'ACP appliquée"
   ]
  },
  {
   "cell_type": "code",
   "execution_count": null,
   "id": "5696e2e7",
   "metadata": {},
   "outputs": [],
   "source": []
  },
  {
   "attachments": {},
   "cell_type": "markdown",
   "id": "a90c11bf",
   "metadata": {},
   "source": [
    "### Correction"
   ]
  },
  {
   "cell_type": "code",
   "execution_count": null,
   "metadata": {
    "collapsed": false
   },
   "outputs": [],
   "source": []
  },
  {
   "cell_type": "markdown",
   "metadata": {
    "collapsed": false
   },
   "source": [
    "## Question\n",
    "Utiliser un graphique adéquat pour visualiser le pourcentage de la variance expliquée par composante principale."
   ]
  },
  {
   "cell_type": "markdown",
   "metadata": {
    "collapsed": false
   },
   "source": [
    "## Correction"
   ]
  },
  {
   "cell_type": "code",
   "execution_count": null,
   "metadata": {
    "collapsed": false
   },
   "outputs": [],
   "source": []
  },
  {
   "cell_type": "code",
   "execution_count": null,
   "id": "19b679e3",
   "metadata": {},
   "outputs": [],
   "source": []
  },
  {
   "cell_type": "markdown",
   "metadata": {
    "collapsed": false
   },
   "source": [
    "## Question\n",
    "Utiliser un graphique adéquat pour afficher le nuage des points sur les 2 axes princiapales de l'ACP."
   ]
  },
  {
   "cell_type": "markdown",
   "metadata": {
    "collapsed": false
   },
   "source": [
    "## Correction"
   ]
  },
  {
   "cell_type": "code",
   "execution_count": null,
   "metadata": {
    "collapsed": false
   },
   "outputs": [],
   "source": []
  },
  {
   "cell_type": "markdown",
   "metadata": {
    "collapsed": false
   },
   "source": [
    "# ACP sur des données réelles\n",
    "\n",
    "### Question\n",
    "- Récupérer le dataset `breast_cancer` depuis les datasets de sklearn.\n",
    "- Récupérer la data du dataset dans une variable `X`\n",
    "- Appliquer une standardisation sur les données `X`"
   ]
  },
  {
   "cell_type": "code",
   "execution_count": null,
   "metadata": {
    "collapsed": false
   },
   "outputs": [],
   "source": []
  },
  {
   "cell_type": "markdown",
   "metadata": {
    "collapsed": false
   },
   "source": [
    "## Question\n",
    "Effectuez une ACP sur 2 composantes principales sur les données standardisées."
   ]
  },
  {
   "cell_type": "markdown",
   "metadata": {
    "collapsed": false
   },
   "source": [
    "## Correction"
   ]
  },
  {
   "cell_type": "code",
   "execution_count": null,
   "metadata": {
    "collapsed": false
   },
   "outputs": [],
   "source": []
  },
  {
   "cell_type": "markdown",
   "metadata": {
    "collapsed": false
   },
   "source": [
    "### Question\n",
    "Utilisez un barplot pour afficher les ratios des variances expliquées du modèle ACP déjà créé."
   ]
  },
  {
   "cell_type": "markdown",
   "metadata": {
    "collapsed": false
   },
   "source": [
    "### Correction"
   ]
  },
  {
   "cell_type": "code",
   "execution_count": null,
   "metadata": {
    "collapsed": false
   },
   "outputs": [],
   "source": []
  },
  {
   "cell_type": "code",
   "execution_count": null,
   "metadata": {
    "collapsed": false
   },
   "outputs": [],
   "source": []
  },
  {
   "cell_type": "markdown",
   "metadata": {
    "collapsed": false
   },
   "source": [
    "### Question\n",
    "Affichez les dimensions des données avant et après l'ACP."
   ]
  },
  {
   "cell_type": "markdown",
   "metadata": {
    "collapsed": false
   },
   "source": [
    "### Correction"
   ]
  },
  {
   "cell_type": "code",
   "execution_count": null,
   "metadata": {
    "collapsed": false
   },
   "outputs": [],
   "source": []
  },
  {
   "cell_type": "markdown",
   "metadata": {
    "collapsed": false
   },
   "source": [
    "### Question\n",
    "Afficher la nouvelle distribution après ACP."
   ]
  },
  {
   "cell_type": "markdown",
   "metadata": {
    "collapsed": false
   },
   "source": [
    "### Correction"
   ]
  },
  {
   "cell_type": "code",
   "execution_count": null,
   "metadata": {
    "collapsed": false
   },
   "outputs": [],
   "source": []
  }
 ],
 "metadata": {
  "date": 1646911521.5879548,
  "filename": "tpIntroductionScikitLearn.rst",
  "kernelspec": {
   "display_name": "Python 3",
   "language": "python",
   "name": "python3"
  },
  "language_info": {
   "codemirror_mode": {
    "name": "ipython",
    "version": 3
   },
   "file_extension": ".py",
   "mimetype": "text/x-python",
   "name": "python",
   "nbconvert_exporter": "python",
   "pygments_lexer": "ipython3",
   "version": "3.11.1"
  },
  "title": "Travaux pratiques - Introduction à Scikit-learn",
  "vscode": {
   "interpreter": {
    "hash": "6a3aa03581f91e835e3e6226cbd24d085324464c633eba87e659030a6b0ef25e"
   }
  }
 },
 "nbformat": 4,
 "nbformat_minor": 5
}
