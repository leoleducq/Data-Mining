{
 "cells": [
  {
   "cell_type": "markdown",
   "id": "0b48c00a",
   "metadata": {},
   "source": [
    "# TP n°5 - Analyse en composantes principales\n",
    "\n",
    "Références utiles :\n",
    "- [Site scikit-learn - ACP](https://scikit-learn.org/stable/modules/generated/sklearn.decomposition.PCA.html)\n",
    "\n",
    "Objectif de ce TP:\n",
    "- Comprendre le principe de l'analyse en composantes principales en utilisant la bibliothèque Scikit-learn.\n",
    "- Réduire l'ensemble des composantes qui expliquent le dataset (nuage des points)."
   ]
  },
  {
   "cell_type": "markdown",
   "id": "930b5acf",
   "metadata": {},
   "source": [
    "# Présentation de l'ACP dans sklearn\n",
    "Avant d'appliquer une ACP, il est nécessaire de commencer par une standardisation des données afin de centrer et normaliser les données.\n",
    "\n",
    "[Le centrage et la réduction des variables (\"standardization\") avec scikit-learn](http://scikit-learn.org/stable/modules/preprocessing.html#standardization-or-mean-removal-and-variance-scaling)\n"
   ]
  },
  {
   "cell_type": "markdown",
   "source": [
    "## Question\n",
    "Récuperer le fichier `sales.csv` et construisez un dataset.\n",
    "Appliquer une ACP sur ce dataset.\n",
    "**NB:** Si nécessaire, vous pouvez commencer par une étape de preprocessing (transformation des variables)."
   ],
   "metadata": {
    "collapsed": false
   }
  },
  {
   "cell_type": "markdown",
   "source": [
    "## Correction"
   ],
   "metadata": {
    "collapsed": false
   }
  },
  {
   "cell_type": "code",
   "execution_count": null,
   "id": "6b397787",
   "metadata": {},
   "outputs": [],
   "source": []
  },
  {
   "cell_type": "code",
   "execution_count": null,
   "id": "d873fcee",
   "metadata": {},
   "outputs": [],
   "source": []
  },
  {
   "cell_type": "markdown",
   "source": [
    "### Question\n",
    "Afficher avec un `print` le ourcentage de variance expliquée pour chaque composante principale de l'ACP appliquée\n",
    "\n",
    "### Correction"
   ],
   "metadata": {
    "collapsed": false
   }
  },
  {
   "cell_type": "code",
   "execution_count": null,
   "outputs": [],
   "source": [],
   "metadata": {
    "collapsed": false
   }
  },
  {
   "cell_type": "markdown",
   "source": [
    "## Question\n",
    "Utiliser un graphique adéquat pour visualiser le pourcentage de la variance expliquée par composante principale."
   ],
   "metadata": {
    "collapsed": false
   }
  },
  {
   "cell_type": "markdown",
   "source": [
    "## Correction"
   ],
   "metadata": {
    "collapsed": false
   }
  },
  {
   "cell_type": "code",
   "execution_count": null,
   "outputs": [],
   "source": [],
   "metadata": {
    "collapsed": false
   }
  },
  {
   "cell_type": "code",
   "execution_count": null,
   "id": "19b679e3",
   "metadata": {},
   "outputs": [],
   "source": []
  },
  {
   "cell_type": "markdown",
   "source": [
    "## Question\n",
    "Utiliser un graphique adéquat pour afficher le nuage des points sur les 2 axes princiapales de l'ACP."
   ],
   "metadata": {
    "collapsed": false
   }
  },
  {
   "cell_type": "markdown",
   "source": [
    "## Correction"
   ],
   "metadata": {
    "collapsed": false
   }
  },
  {
   "cell_type": "code",
   "execution_count": null,
   "outputs": [],
   "source": [],
   "metadata": {
    "collapsed": false
   }
  },
  {
   "cell_type": "markdown",
   "source": [
    "# ACP sur des données réelles\n",
    "\n",
    "### Question\n",
    "- Récupérer le dataset `breast_cancer` depuis les datasets de sklearn.\n",
    "- Récupérer la data du dataset dans une variable `X`\n",
    "- Appliquer une standardisation sur les données `X`"
   ],
   "metadata": {
    "collapsed": false
   }
  },
  {
   "cell_type": "code",
   "execution_count": null,
   "outputs": [],
   "source": [],
   "metadata": {
    "collapsed": false
   }
  },
  {
   "cell_type": "markdown",
   "source": [
    "## Question\n",
    "Effectuez une ACP sur 2 composantes principales sur les données standardisées."
   ],
   "metadata": {
    "collapsed": false
   }
  },
  {
   "cell_type": "markdown",
   "source": [
    "## Correction"
   ],
   "metadata": {
    "collapsed": false
   }
  },
  {
   "cell_type": "code",
   "execution_count": null,
   "outputs": [],
   "source": [],
   "metadata": {
    "collapsed": false
   }
  },
  {
   "cell_type": "markdown",
   "source": [
    "### Question\n",
    "Utilisez un barplot pour afficher les ratios des variances expliquées du modèle ACP déjà créé."
   ],
   "metadata": {
    "collapsed": false
   }
  },
  {
   "cell_type": "markdown",
   "source": [
    "### Correction"
   ],
   "metadata": {
    "collapsed": false
   }
  },
  {
   "cell_type": "code",
   "execution_count": null,
   "outputs": [],
   "source": [],
   "metadata": {
    "collapsed": false
   }
  },
  {
   "cell_type": "code",
   "execution_count": null,
   "outputs": [],
   "source": [],
   "metadata": {
    "collapsed": false
   }
  },
  {
   "cell_type": "markdown",
   "source": [
    "### Question\n",
    "Affichez les dimensions des données avant et après l'ACP."
   ],
   "metadata": {
    "collapsed": false
   }
  },
  {
   "cell_type": "markdown",
   "source": [
    "### Correction"
   ],
   "metadata": {
    "collapsed": false
   }
  },
  {
   "cell_type": "code",
   "execution_count": null,
   "outputs": [],
   "source": [],
   "metadata": {
    "collapsed": false
   }
  },
  {
   "cell_type": "markdown",
   "source": [
    "### Question\n",
    "Afficher la nouvelle distribution après ACP."
   ],
   "metadata": {
    "collapsed": false
   }
  },
  {
   "cell_type": "markdown",
   "source": [
    "### Correction"
   ],
   "metadata": {
    "collapsed": false
   }
  },
  {
   "cell_type": "code",
   "execution_count": null,
   "outputs": [],
   "source": [],
   "metadata": {
    "collapsed": false
   }
  }
 ],
 "metadata": {
  "date": 1.6469115215879548E9,
  "filename": "tpIntroductionScikitLearn.rst",
  "kernelspec": {
   "display_name": "Python 3 (ipykernel)",
   "language": "python",
   "name": "python3"
  },
  "language_info": {
   "codemirror_mode": {
    "name": "ipython",
    "version": 3
   },
   "file_extension": ".py",
   "mimetype": "text/x-python",
   "name": "python",
   "nbconvert_exporter": "python",
   "pygments_lexer": "ipython3",
   "version": "3.8.13"
  },
  "title": "Travaux pratiques - Introduction à Scikit-learn"
 },
 "nbformat": 4,
 "nbformat_minor": 5
}
