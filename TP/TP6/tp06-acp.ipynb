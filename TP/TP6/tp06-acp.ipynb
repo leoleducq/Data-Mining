{
 "cells": [
  {
   "cell_type": "markdown",
   "id": "0b48c00a",
   "metadata": {},
   "source": [
    "# TP n°5 - Analyse en composantes principales\n",
    "\n",
    "Références utiles :\n",
    "- [Site scikit-learn - ACP](https://scikit-learn.org/stable/modules/generated/sklearn.decomposition.PCA.html)\n",
    "\n",
    "Objectif de ce TP:\n",
    "- Comprendre le principe de l'analyse en composantes principales en utilisant la bibliothèque Scikit-learn.\n",
    "- Réduire l'ensemble des composantes qui expliquent le dataset (nuage des points)."
   ]
  },
  {
   "cell_type": "markdown",
   "id": "930b5acf",
   "metadata": {},
   "source": [
    "# Présentation de l'ACP dans sklearn\n",
    "Avant d'appliquer une ACP, il est nécessaire de commencer par une standardisation des données afin de centrer et normaliser les données.\n",
    "\n",
    "[Le centrage et la réduction des variables (\"standardization\") avec scikit-learn](http://scikit-learn.org/stable/modules/preprocessing.html#standardization-or-mean-removal-and-variance-scaling)\n"
   ]
  },
  {
   "cell_type": "markdown",
   "metadata": {
    "collapsed": false
   },
   "source": [
    "## Question\n",
    "Récuperer le fichier `sales.csv` et construisez un dataset.\n",
    "Appliquer une ACP sur ce dataset.\n",
    "**NB:** Si nécessaire, vous pouvez commencer par une étape de preprocessing (transformation des variables)."
   ]
  },
  {
   "cell_type": "markdown",
   "metadata": {
    "collapsed": false
   },
   "source": [
    "## Correction"
   ]
  },
  {
   "cell_type": "code",
   "execution_count": null,
   "id": "6b397787",
   "metadata": {},
   "outputs": [],
   "source": []
  },
  {
   "cell_type": "code",
   "execution_count": null,
   "id": "d873fcee",
   "metadata": {},
   "outputs": [],
   "source": []
  },
  {
   "cell_type": "markdown",
   "metadata": {
    "collapsed": false
   },
   "source": [
    "### Question\n",
    "Afficher avec un `print` le ourcentage de variance expliquée pour chaque composante principale de l'ACP appliquée\n",
    "\n",
    "### Correction"
   ]
  },
  {
   "cell_type": "code",
   "execution_count": null,
   "metadata": {
    "collapsed": false
   },
   "outputs": [],
   "source": []
  },
  {
   "cell_type": "markdown",
   "metadata": {
    "collapsed": false
   },
   "source": [
    "## Question\n",
    "Utiliser un graphique adéquat pour visualiser le pourcentage de la variance expliquée par composante principale."
   ]
  },
  {
   "cell_type": "markdown",
   "metadata": {
    "collapsed": false
   },
   "source": [
    "## Correction"
   ]
  },
  {
   "cell_type": "code",
   "execution_count": null,
   "metadata": {
    "collapsed": false
   },
   "outputs": [],
   "source": []
  },
  {
   "cell_type": "code",
   "execution_count": null,
   "id": "19b679e3",
   "metadata": {},
   "outputs": [],
   "source": []
  },
  {
   "cell_type": "markdown",
   "metadata": {
    "collapsed": false
   },
   "source": [
    "## Question\n",
    "Utiliser un graphique adéquat pour afficher le nuage des points sur les 2 axes princiapales de l'ACP."
   ]
  },
  {
   "cell_type": "markdown",
   "metadata": {
    "collapsed": false
   },
   "source": [
    "## Correction"
   ]
  },
  {
   "cell_type": "code",
   "execution_count": null,
   "metadata": {
    "collapsed": false
   },
   "outputs": [],
   "source": []
  },
  {
   "cell_type": "markdown",
   "metadata": {
    "collapsed": false
   },
   "source": [
    "# ACP sur des données réelles\n",
    "\n",
    "### Question\n",
    "- Récupérer le dataset `breast_cancer` depuis les datasets de sklearn.\n",
    "- Récupérer la data du dataset dans une variable `X`\n",
    "- Appliquer une standardisation sur les données `X`"
   ]
  },
  {
   "cell_type": "code",
   "execution_count": null,
   "metadata": {
    "collapsed": false
   },
   "outputs": [],
   "source": []
  },
  {
   "cell_type": "markdown",
   "metadata": {
    "collapsed": false
   },
   "source": [
    "## Question\n",
    "Effectuez une ACP sur 2 composantes principales sur les données standardisées."
   ]
  },
  {
   "cell_type": "markdown",
   "metadata": {
    "collapsed": false
   },
   "source": [
    "## Correction"
   ]
  },
  {
   "cell_type": "code",
   "execution_count": null,
   "metadata": {
    "collapsed": false
   },
   "outputs": [],
   "source": []
  },
  {
   "cell_type": "markdown",
   "metadata": {
    "collapsed": false
   },
   "source": [
    "### Question\n",
    "Utilisez un barplot pour afficher les ratios des variances expliquées du modèle ACP déjà créé."
   ]
  },
  {
   "cell_type": "markdown",
   "metadata": {
    "collapsed": false
   },
   "source": [
    "### Correction"
   ]
  },
  {
   "cell_type": "code",
   "execution_count": null,
   "metadata": {
    "collapsed": false
   },
   "outputs": [],
   "source": []
  },
  {
   "cell_type": "code",
   "execution_count": null,
   "metadata": {
    "collapsed": false
   },
   "outputs": [],
   "source": []
  },
  {
   "cell_type": "markdown",
   "metadata": {
    "collapsed": false
   },
   "source": [
    "### Question\n",
    "Affichez les dimensions des données avant et après l'ACP."
   ]
  },
  {
   "cell_type": "markdown",
   "metadata": {
    "collapsed": false
   },
   "source": [
    "### Correction"
   ]
  },
  {
   "cell_type": "code",
   "execution_count": null,
   "metadata": {
    "collapsed": false
   },
   "outputs": [],
   "source": []
  },
  {
   "cell_type": "markdown",
   "metadata": {
    "collapsed": false
   },
   "source": [
    "### Question\n",
    "Afficher la nouvelle distribution après ACP."
   ]
  },
  {
   "cell_type": "markdown",
   "metadata": {
    "collapsed": false
   },
   "source": [
    "### Correction"
   ]
  },
  {
   "cell_type": "code",
   "execution_count": null,
   "metadata": {
    "collapsed": false
   },
   "outputs": [],
   "source": []
  }
 ],
 "metadata": {
  "date": 1646911521.5879548,
  "filename": "tpIntroductionScikitLearn.rst",
  "kernelspec": {
   "display_name": "Python 3",
   "language": "python",
   "name": "python3"
  },
  "language_info": {
   "codemirror_mode": {
    "name": "ipython",
    "version": 3
   },
   "file_extension": ".py",
   "mimetype": "text/x-python",
   "name": "python",
   "nbconvert_exporter": "python",
   "pygments_lexer": "ipython3",
   "version": "3.11.1 (tags/v3.11.1:a7a450f, Dec  6 2022, 19:58:39) [MSC v.1934 64 bit (AMD64)]"
  },
  "title": "Travaux pratiques - Introduction à Scikit-learn",
  "vscode": {
   "interpreter": {
    "hash": "6a3aa03581f91e835e3e6226cbd24d085324464c633eba87e659030a6b0ef25e"
   }
  }
 },
 "nbformat": 4,
 "nbformat_minor": 5
}
