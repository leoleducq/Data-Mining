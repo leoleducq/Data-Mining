{
 "cells": [
  {
   "cell_type": "markdown",
   "metadata": {
    "collapsed": false
   },
   "source": [
    "# TP n°4 - Les techniques de transformation des variables\n",
    "\n",
    "- [Documentation Matplotlib](http://matplotlib.org/)\n",
    "- [Documentation Seaborn](https://seaborn.pydata.org/)\n",
    "\n",
    "Il est souvent nécessaire d'apporter quelques transformations sur les variables du dataset étudié.\n",
    "Il est important de noter que la transformation des données doit être effectuée avec soin, car elle peut affecter les résultats de l'analyse. Il est recommandé de vérifier les effets de chaque transformation sur les données et de choisir celle qui donne les meilleurs résultats.\n",
    "\n",
    "On peut distinguer plusieurs techniques de preprocessing selon le cas:\n",
    "\n",
    "## Normalization\n",
    "C'est la standardisation ou la normalisation des valeurs : Si les valeurs des différentes variables ont des échelles différentes, cela peut affecter les résultats de l'analyse. Par exemple, si une variable prend des valeurs allant de 0 à 1 000 et une autre de 0 à 10, cela peut biaiser les résultats de l'analyse. Dans ce cas, il peut être utile de standardiser les valeurs en utilisant une technique de normalisation, comme les méthodes L1 et L2.\n",
    "\n",
    "### Exercice 1\n",
    "- Définir les méthodes de normalisation L1 et L2.\n",
    "- Créer une matrice 3x3 de valeurs aléatoires.\n",
    "- Normaliser cette matrice en utilisant L1 puis avec L2."
   ]
  },
  {
   "cell_type": "code",
   "execution_count": 10,
   "metadata": {
    "collapsed": false
   },
   "outputs": [
    {
     "name": "stdout",
     "output_type": "stream",
     "text": [
      "L1-normalized data : \n",
      "[[0.56364533 0.13287668 0.30347799]\n",
      " [0.10327928 0.74063632 0.1560844 ]\n",
      " [0.23204599 0.49313432 0.27481969]]\n",
      "L2-normalized data : \n",
      "[[0.86210996 0.20323829 0.46417736]\n",
      " [0.13519677 0.96952299 0.20432082]\n",
      " [0.38017209 0.80792564 0.4502503 ]]\n"
     ]
    }
   ],
   "source": [
    "from sklearn import preprocessing\n",
    "import numpy as np\n",
    "\n",
    "matrice = np.random.rand(3,3)\n",
    "\n",
    "l1 = preprocessing.normalize(matrice, norm='l1')\n",
    "l2 = preprocessing.normalize(matrice, norm='l2')\n",
    "\n",
    "# Somme des valeurs absolues = 1\n",
    "print(f\"L1-normalized data : \\n{l1}\")\n",
    "# Somme des carrés = 1\n",
    "print(f\"L2-normalized data : \\n{l2}\")"
   ]
  },
  {
   "cell_type": "markdown",
   "metadata": {
    "collapsed": false
   },
   "source": [
    "## Label encoding\n",
    "Cette technique permet de d'encoder les variables catégorielles.\n",
    "Les modèles de data mining sont souvent conçus pour traiter des variables **quantitatives** et ne peuvent pas directement traiter les variables catégorielles. Dans ce cas, il peut être utile de transformer les variables catégorielles en variables numériques, en utilisant des techniques d'encodage telles que l'encodage \"one-hot\".\n",
    "### Exercice 2\n",
    "Utiliser cette technique sur un dataset de votre choix."
   ]
  },
  {
   "cell_type": "code",
   "execution_count": 34,
   "metadata": {
    "collapsed": false
   },
   "outputs": [
    {
     "name": "stdout",
     "output_type": "stream",
     "text": [
      "            division  level of education  training level  work experience  \\\n",
      "0  computer software        some college               3                7   \n",
      "1           printers  associate's degree               0                5   \n",
      "2           printers  associate's degree               1                5   \n",
      "3        peripherals        some college               1                9   \n",
      "4    office supplies  associate's degree               0                3   \n",
      "5        peripherals   bachelor's degree               2               12   \n",
      "6        peripherals   bachelor's degree               1                6   \n",
      "7           printers   bachelor's degree               0                4   \n",
      "8        peripherals  associate's degree               0                6   \n",
      "9        peripherals        some college               1                1   \n",
      "\n",
      "   salary   sales  le_encoded_division  \n",
      "0  111642  462905                    0  \n",
      "1   83988  262499                    3  \n",
      "2   91784  339473                    3  \n",
      "3   99755  409342                    2  \n",
      "4   70694  173665                    1  \n",
      "5  131177  590386                    2  \n",
      "6   89342  312963                    2  \n",
      "7   68702  134486                    3  \n",
      "8   86764  244409                    2  \n",
      "9   64694  145215                    2  \n"
     ]
    }
   ],
   "source": [
    "import pandas as pd\n",
    "\n",
    "df = pd.read_csv('../datasets/sales.csv')\n",
    "\n",
    "# Utilise le label encoding sur le dataframe\n",
    "le = preprocessing.LabelEncoder()\n",
    "df['le_encoded_division'] = le.fit_transform(df['division'])\n",
    "print(df)"
   ]
  },
  {
   "cell_type": "markdown",
   "metadata": {
    "collapsed": false
   },
   "source": [
    "## One-Hot encoding\n",
    "### Exercice 3\n",
    "Utiliser cette technique sur un dataset de votre choix."
   ]
  },
  {
   "cell_type": "code",
   "execution_count": 39,
   "metadata": {
    "collapsed": false
   },
   "outputs": [
    {
     "name": "stdout",
     "output_type": "stream",
     "text": [
      "   training level  work experience  salary   sales  \\\n",
      "0               3                7  111642  462905   \n",
      "1               0                5   83988  262499   \n",
      "2               1                5   91784  339473   \n",
      "3               1                9   99755  409342   \n",
      "4               0                3   70694  173665   \n",
      "5               2               12  131177  590386   \n",
      "6               1                6   89342  312963   \n",
      "7               0                4   68702  134486   \n",
      "8               0                6   86764  244409   \n",
      "9               1                1   64694  145215   \n",
      "\n",
      "   division_computer software  division_office supplies  division_peripherals  \\\n",
      "0                           1                         0                     0   \n",
      "1                           0                         0                     0   \n",
      "2                           0                         0                     0   \n",
      "3                           0                         0                     1   \n",
      "4                           0                         1                     0   \n",
      "5                           0                         0                     1   \n",
      "6                           0                         0                     1   \n",
      "7                           0                         0                     0   \n",
      "8                           0                         0                     1   \n",
      "9                           0                         0                     1   \n",
      "\n",
      "   division_printers  level of education_associate's degree  \\\n",
      "0                  0                                      0   \n",
      "1                  1                                      1   \n",
      "2                  1                                      1   \n",
      "3                  0                                      0   \n",
      "4                  0                                      1   \n",
      "5                  0                                      0   \n",
      "6                  0                                      0   \n",
      "7                  1                                      0   \n",
      "8                  0                                      1   \n",
      "9                  0                                      0   \n",
      "\n",
      "   level of education_bachelor's degree  level of education_some college  \n",
      "0                                     0                                1  \n",
      "1                                     0                                0  \n",
      "2                                     0                                0  \n",
      "3                                     0                                1  \n",
      "4                                     0                                0  \n",
      "5                                     1                                0  \n",
      "6                                     1                                0  \n",
      "7                                     1                                0  \n",
      "8                                     0                                0  \n",
      "9                                     0                                1  \n"
     ]
    },
    {
     "data": {
      "text/html": [
       "<div>\n",
       "<style scoped>\n",
       "    .dataframe tbody tr th:only-of-type {\n",
       "        vertical-align: middle;\n",
       "    }\n",
       "\n",
       "    .dataframe tbody tr th {\n",
       "        vertical-align: top;\n",
       "    }\n",
       "\n",
       "    .dataframe thead th {\n",
       "        text-align: right;\n",
       "    }\n",
       "</style>\n",
       "<table border=\"1\" class=\"dataframe\">\n",
       "  <thead>\n",
       "    <tr style=\"text-align: right;\">\n",
       "      <th></th>\n",
       "      <th>training level</th>\n",
       "      <th>work experience</th>\n",
       "      <th>salary</th>\n",
       "      <th>sales</th>\n",
       "      <th>division_computer software</th>\n",
       "      <th>division_office supplies</th>\n",
       "      <th>division_peripherals</th>\n",
       "      <th>division_printers</th>\n",
       "      <th>level of education_associate's degree</th>\n",
       "      <th>level of education_bachelor's degree</th>\n",
       "      <th>level of education_some college</th>\n",
       "    </tr>\n",
       "  </thead>\n",
       "  <tbody>\n",
       "    <tr>\n",
       "      <th>0</th>\n",
       "      <td>3</td>\n",
       "      <td>7</td>\n",
       "      <td>111642</td>\n",
       "      <td>462905</td>\n",
       "      <td>1</td>\n",
       "      <td>0</td>\n",
       "      <td>0</td>\n",
       "      <td>0</td>\n",
       "      <td>0</td>\n",
       "      <td>0</td>\n",
       "      <td>1</td>\n",
       "    </tr>\n",
       "    <tr>\n",
       "      <th>1</th>\n",
       "      <td>0</td>\n",
       "      <td>5</td>\n",
       "      <td>83988</td>\n",
       "      <td>262499</td>\n",
       "      <td>0</td>\n",
       "      <td>0</td>\n",
       "      <td>0</td>\n",
       "      <td>1</td>\n",
       "      <td>1</td>\n",
       "      <td>0</td>\n",
       "      <td>0</td>\n",
       "    </tr>\n",
       "    <tr>\n",
       "      <th>2</th>\n",
       "      <td>1</td>\n",
       "      <td>5</td>\n",
       "      <td>91784</td>\n",
       "      <td>339473</td>\n",
       "      <td>0</td>\n",
       "      <td>0</td>\n",
       "      <td>0</td>\n",
       "      <td>1</td>\n",
       "      <td>1</td>\n",
       "      <td>0</td>\n",
       "      <td>0</td>\n",
       "    </tr>\n",
       "    <tr>\n",
       "      <th>3</th>\n",
       "      <td>1</td>\n",
       "      <td>9</td>\n",
       "      <td>99755</td>\n",
       "      <td>409342</td>\n",
       "      <td>0</td>\n",
       "      <td>0</td>\n",
       "      <td>1</td>\n",
       "      <td>0</td>\n",
       "      <td>0</td>\n",
       "      <td>0</td>\n",
       "      <td>1</td>\n",
       "    </tr>\n",
       "    <tr>\n",
       "      <th>4</th>\n",
       "      <td>0</td>\n",
       "      <td>3</td>\n",
       "      <td>70694</td>\n",
       "      <td>173665</td>\n",
       "      <td>0</td>\n",
       "      <td>1</td>\n",
       "      <td>0</td>\n",
       "      <td>0</td>\n",
       "      <td>1</td>\n",
       "      <td>0</td>\n",
       "      <td>0</td>\n",
       "    </tr>\n",
       "  </tbody>\n",
       "</table>\n",
       "</div>"
      ],
      "text/plain": [
       "   training level  work experience  salary   sales  \\\n",
       "0               3                7  111642  462905   \n",
       "1               0                5   83988  262499   \n",
       "2               1                5   91784  339473   \n",
       "3               1                9   99755  409342   \n",
       "4               0                3   70694  173665   \n",
       "\n",
       "   division_computer software  division_office supplies  division_peripherals  \\\n",
       "0                           1                         0                     0   \n",
       "1                           0                         0                     0   \n",
       "2                           0                         0                     0   \n",
       "3                           0                         0                     1   \n",
       "4                           0                         1                     0   \n",
       "\n",
       "   division_printers  level of education_associate's degree  \\\n",
       "0                  0                                      0   \n",
       "1                  1                                      1   \n",
       "2                  1                                      1   \n",
       "3                  0                                      0   \n",
       "4                  0                                      1   \n",
       "\n",
       "   level of education_bachelor's degree  level of education_some college  \n",
       "0                                     0                                1  \n",
       "1                                     0                                0  \n",
       "2                                     0                                0  \n",
       "3                                     0                                1  \n",
       "4                                     0                                0  "
      ]
     },
     "execution_count": 39,
     "metadata": {},
     "output_type": "execute_result"
    }
   ],
   "source": [
    "df = pd.read_csv('../datasets/sales.csv')\n",
    "data_dummies = pd.get_dummies(df)\n",
    "print(data_dummies)\n",
    "data_dummies.head()"
   ]
  },
  {
   "cell_type": "markdown",
   "metadata": {
    "collapsed": false
   },
   "source": [
    "## Valeurs aberrantes\n",
    "Pour traiter les valeurs aberrantes : Les valeurs aberrantes (ou \"outliers\") peuvent affecter les résultats de l'analyse, en particulier si elles sont trop éloignées de la distribution normale des données. Dans ce cas, il peut être utile de transformer ces valeurs en utilisant une technique de transformation telle que la transformation logarithmique ou la transformation inverse. Dans certains cas, il est préferable de supprimer simplement les valeurs aberrantes.\n",
    "### Exercice 4\n",
    "- Utiliser le dataset `salaires-postes.csv`.\n",
    "- Ajouter des valeurs aberrantes si besoin.\n",
    "- Quel graphique proposez-vous pour bien visualiser les valeurs aberrantes ?  Utilisez le.\n",
    "- Utiliser une technique de transformation des valeurs aberrantes."
   ]
  },
  {
   "cell_type": "code",
   "execution_count": 42,
   "metadata": {
    "collapsed": false
   },
   "outputs": [
    {
     "data": {
      "text/plain": [
       "<AxesSubplot: xlabel='poste', ylabel='salaire'>"
      ]
     },
     "execution_count": 42,
     "metadata": {},
     "output_type": "execute_result"
    },
    {
     "data": {
      "image/png": "[encoded data removed]",
      "text/plain": [
       "<Figure size 640x480 with 1 Axes>"
      ]
     },
     "metadata": {},
     "output_type": "display_data"
    }
   ],
   "source": [
    "import seaborn as sns\n",
    "df = pd.read_csv(\"../datasets/salaires-postes.csv\")\n",
    "sns.boxplot(data=df, x=\"poste\", y=\"salaire\")"
   ]
  },
  {
   "cell_type": "markdown",
   "metadata": {
    "collapsed": false
   },
   "source": [
    "## Valeurs manquantes"
   ]
  },
  {
   "cell_type": "markdown",
   "metadata": {
    "collapsed": false
   },
   "source": [
    "Une autre technique qui permet d'imputer des données manquantes. Les valeurs manquantes peuvent également affecter les résultats de l'analyse, en particulier si elles sont présentes en grand nombre. Dans ce cas, il peut être utile de transformer ces valeurs en utilisant une technique d'imputation telle que la moyenne..."
   ]
  },
  {
   "cell_type": "markdown",
   "metadata": {
    "collapsed": false
   },
   "source": [
    "### Exercice 5\n",
    "- Utilisez le dataset `sales.csv` et afficher sa description et ses informations\n",
    "- Présente-t-il des valeurs manquantes ? Si oui, affichez le pourcentage des valeurs manquantes.\n",
    "- Affichez un graphique adéquat qui montre le pourcentage des valeurs manquantes par variable."
   ]
  },
  {
   "cell_type": "code",
   "execution_count": null,
   "metadata": {
    "collapsed": false
   },
   "outputs": [],
   "source": [
    "# TODO"
   ]
  },
  {
   "cell_type": "markdown",
   "metadata": {
    "collapsed": false
   },
   "source": [
    "# TP suivant ?\n",
    "TP n°5: La réduction des variables par sélection.\n"
   ]
  }
 ],
 "metadata": {
  "kernelspec": {
   "display_name": "Python 3",
   "language": "python",
   "name": "python3"
  },
  "language_info": {
   "codemirror_mode": {
    "name": "ipython",
    "version": 3
   },
   "file_extension": ".py",
   "mimetype": "text/x-python",
   "name": "python",
   "nbconvert_exporter": "python",
   "pygments_lexer": "ipython3",
   "version": "3.11.1 (tags/v3.11.1:a7a450f, Dec  6 2022, 19:58:39) [MSC v.1934 64 bit (AMD64)]"
  },
  "vscode": {
   "interpreter": {
    "hash": "6a3aa03581f91e835e3e6226cbd24d085324464c633eba87e659030a6b0ef25e"
   }
  }
 },
 "nbformat": 4,
 "nbformat_minor": 0
}
