{
 "cells": [
  {
   "cell_type": "markdown",
   "source": [
    "# TP n°4 - Les techniques de transformation des variables\n",
    "\n",
    "- [Documentation Matplotlib](http://matplotlib.org/)\n",
    "- [Documentation Seaborn](https://seaborn.pydata.org/)\n",
    "\n",
    "Il est souvent nécessaire d'apporter quelques transformations sur les variables du dataset étudié.\n",
    "Il est important de noter que la transformation des données doit être effectuée avec soin, car elle peut affecter les résultats de l'analyse. Il est recommandé de vérifier les effets de chaque transformation sur les données et de choisir celle qui donne les meilleurs résultats.\n",
    "\n",
    "On peut distinguer plusieurs techniques de preprocessing selon le cas:\n",
    "\n",
    "## Normalization\n",
    "C'est la standardisation ou la normalisation des valeurs : Si les valeurs des différentes variables ont des échelles différentes, cela peut affecter les résultats de l'analyse. Par exemple, si une variable prend des valeurs allant de 0 à 1 000 et une autre de 0 à 10, cela peut biaiser les résultats de l'analyse. Dans ce cas, il peut être utile de standardiser les valeurs en utilisant une technique de normalisation, comme les méthodes L1 et L2.\n",
    "\n",
    "### Exercice 1\n",
    "- Définir les méthodes de normalisation L1 et L2.\n",
    "- Créer une matrice 3x3 de valeurs aléatoires.\n",
    "- Normaliser cette matrice en utilisant L1 puis avec L2."
   ],
   "metadata": {
    "collapsed": false
   }
  },
  {
   "cell_type": "code",
   "execution_count": null,
   "outputs": [],
   "source": [
    "# TODO"
   ],
   "metadata": {
    "collapsed": false
   }
  },
  {
   "cell_type": "markdown",
   "source": [
    "## Label encoding\n",
    "Cette technique permet de d'encoder les variables catégorielles.\n",
    "Les modèles de data mining sont souvent conçus pour traiter des variables **quantitatives** et ne peuvent pas directement traiter les variables catégorielles. Dans ce cas, il peut être utile de transformer les variables catégorielles en variables numériques, en utilisant des techniques d'encodage telles que l'encodage \"one-hot\".\n",
    "### Exercice 2\n",
    "Utiliser cette technique sur un dataset de votre choix."
   ],
   "metadata": {
    "collapsed": false
   }
  },
  {
   "cell_type": "code",
   "execution_count": null,
   "outputs": [],
   "source": [
    "# TODO"
   ],
   "metadata": {
    "collapsed": false
   }
  },
  {
   "cell_type": "markdown",
   "source": [
    "## One-Hot encoding\n",
    "### Exercice 3\n",
    "Utiliser cette technique sur un dataset de votre choix."
   ],
   "metadata": {
    "collapsed": false
   }
  },
  {
   "cell_type": "code",
   "execution_count": null,
   "outputs": [],
   "source": [
    "# TODO"
   ],
   "metadata": {
    "collapsed": false
   }
  },
  {
   "cell_type": "markdown",
   "source": [
    "## Valeurs aberrantes\n",
    "Pour traiter les valeurs aberrantes : Les valeurs aberrantes (ou \"outliers\") peuvent affecter les résultats de l'analyse, en particulier si elles sont trop éloignées de la distribution normale des données. Dans ce cas, il peut être utile de transformer ces valeurs en utilisant une technique de transformation telle que la transformation logarithmique ou la transformation inverse. Dans certains cas, il est préferable de supprimer simplement les valeurs aberrantes.\n",
    "### Exercice 4\n",
    "- Utiliser le dataset `salaires-postes.csv`.\n",
    "- Ajouter des valeurs aberrantes si besoin.\n",
    "- Quel graphique proposez-vous pour bien visualiser les valeurs aberrantes ?  Utilisez le.\n",
    "- Utiliser une technique de transformation des valeurs aberrantes."
   ],
   "metadata": {
    "collapsed": false
   }
  },
  {
   "cell_type": "code",
   "execution_count": null,
   "outputs": [],
   "source": [
    "# TODO"
   ],
   "metadata": {
    "collapsed": false
   }
  },
  {
   "cell_type": "markdown",
   "source": [
    "## Valeurs manquantes"
   ],
   "metadata": {
    "collapsed": false
   }
  },
  {
   "cell_type": "markdown",
   "source": [
    "Une autre technique qui permet d'imputer des données manquantes. Les valeurs manquantes peuvent également affecter les résultats de l'analyse, en particulier si elles sont présentes en grand nombre. Dans ce cas, il peut être utile de transformer ces valeurs en utilisant une technique d'imputation telle que la moyenne..."
   ],
   "metadata": {
    "collapsed": false
   }
  },
  {
   "cell_type": "markdown",
   "source": [
    "### Exercice 5\n",
    "- Utilisez le dataset `sales.csv` et afficher sa description et ses informations\n",
    "- Présente-t-il des valeurs manquantes ? Si oui, affichez le pourcentage des valeurs manquantes.\n",
    "- Affichez un graphique adéquat qui montre le pourcentage des valeurs manquantes par variable."
   ],
   "metadata": {
    "collapsed": false
   }
  },
  {
   "cell_type": "code",
   "execution_count": null,
   "outputs": [],
   "source": [
    "# TODO"
   ],
   "metadata": {
    "collapsed": false
   }
  },
  {
   "cell_type": "markdown",
   "source": [
    "# TP suivant ?\n",
    "TP n°5: La réduction des variables par sélection.\n"
   ],
   "metadata": {
    "collapsed": false
   }
  }
 ],
 "metadata": {
  "kernelspec": {
   "display_name": "Python 3",
   "language": "python",
   "name": "python3"
  },
  "language_info": {
   "codemirror_mode": {
    "name": "ipython",
    "version": 2
   },
   "file_extension": ".py",
   "mimetype": "text/x-python",
   "name": "python",
   "nbconvert_exporter": "python",
   "pygments_lexer": "ipython2",
   "version": "2.7.6"
  }
 },
 "nbformat": 4,
 "nbformat_minor": 0
}
