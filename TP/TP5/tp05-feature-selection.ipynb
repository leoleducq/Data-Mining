{
 "cells": [
  {
   "cell_type": "markdown",
   "id": "da7e4d06",
   "metadata": {},
   "source": [
    "# TP n°4 - Feature selection\n",
    "**Objectif:**\n",
    "\n",
    "Ce TP vise à étudier quelques méthodes de sélection de variables (Filtrage) en utilisant la bibliothèque Scikit-learn.\n",
    "\n",
    "[Documentation scikit-learn -> feature selection](https://scikit-learn.org/stable/modules/feature_selection.html)\n",
    "\n",
    "Durant ce TP, on va aussi utiliser un modèle de réduction de variables (AFD).\n",
    "Dans Scikit-learn, l'analyse factorielle discriminante (AFD) est mise en oeuvre dans la classe [LinearDiscriminantAnalysis](http://scikit-learn.org/stable/modules/generated/sklearn.discriminant_analysis.LinearDiscriminantAnalysis.html)"
   ]
  },
  {
   "cell_type": "markdown",
   "id": "9174a96d",
   "metadata": {},
   "source": [
    "# Scikit-learn\n",
    "Scikit-learn ou sklearn est une bibliothèque python libre conçue pour effectuer de l'apprentissage automatique.\n",
    "Elle propose un set d'algorithmes de classification, régression et regroupement etc.\n",
    "\n",
    "# Dataset\n",
    "Pour illustrer le propos, on va utiliser le dataset `sales.csv` et nous allons ajouter des variables aléatoires qui représentent du bruit.\n"
   ]
  },
  {
   "cell_type": "code",
   "execution_count": 84,
   "metadata": {
    "collapsed": false
   },
   "outputs": [],
   "source": [
    "import pandas as pd\n",
    "# Chargement du dataset sales.csv\n",
    "df = pd.read_csv(\"../datasets/sales.csv\")"
   ]
  },
  {
   "cell_type": "code",
   "execution_count": 85,
   "id": "1cefc34d",
   "metadata": {},
   "outputs": [
    {
     "name": "stdout",
     "output_type": "stream",
     "text": [
      "<class 'pandas.core.frame.DataFrame'>\n",
      "RangeIndex: 1000 entries, 0 to 999\n",
      "Data columns (total 6 columns):\n",
      " #   Column              Non-Null Count  Dtype \n",
      "---  ------              --------------  ----- \n",
      " 0   division            1000 non-null   object\n",
      " 1   level of education  1000 non-null   object\n",
      " 2   training level      1000 non-null   int64 \n",
      " 3   work experience     1000 non-null   int64 \n",
      " 4   salary              1000 non-null   int64 \n",
      " 5   sales               1000 non-null   int64 \n",
      "dtypes: int64(4), object(2)\n",
      "memory usage: 47.0+ KB\n"
     ]
    }
   ],
   "source": [
    "# Afficher les dimension du dataset\n",
    "df.shape\n",
    "# Afficher les informations du dataset\n",
    "df.info()"
   ]
  },
  {
   "attachments": {},
   "cell_type": "markdown",
   "id": "374e6e87",
   "metadata": {},
   "source": [
    "Pour l'exemple, on va supposer que la variable `level of education` (variable expliquée) contient les étiquettes des classes.\n",
    "\n",
    "Pour référence, appliquons l'étape décisionnelle de l'analyse discriminante (comme modèle décisionnel) sur les données initiales et ensuite sur les données auxquelles les nouvelles variables aléatoires ont été ajoutées :"
   ]
  },
  {
   "cell_type": "code",
   "execution_count": 86,
   "id": "098271e5",
   "metadata": {},
   "outputs": [],
   "source": [
    "# Préparation des subsets d'entrainement et de test\n",
    "from sklearn.model_selection import train_test_split\n",
    "from sklearn.preprocessing import LabelEncoder\n",
    "import numpy as np\n",
    "\n",
    "# Encoding des variables catégorielles\n",
    "le = LabelEncoder()\n",
    "df[\"division_encoded\"] = le.fit_transform(df[\"division\"])\n",
    "df['level_education_encoded'] = le.fit_transform(df['level of education'])\n",
    "# Ajout de 2 variables pour bruiter\n",
    "np.random.seed(42)\n",
    "df['noise1'] = np.random.rand(len(df))\n",
    "df['noise2'] = np.random.rand(len(df))**5"
   ]
  },
  {
   "cell_type": "code",
   "execution_count": 87,
   "id": "41170dda",
   "metadata": {},
   "outputs": [
    {
     "data": {
      "text/html": [
       "<div>\n",
       "<style scoped>\n",
       "    .dataframe tbody tr th:only-of-type {\n",
       "        vertical-align: middle;\n",
       "    }\n",
       "\n",
       "    .dataframe tbody tr th {\n",
       "        vertical-align: top;\n",
       "    }\n",
       "\n",
       "    .dataframe thead th {\n",
       "        text-align: right;\n",
       "    }\n",
       "</style>\n",
       "<table border=\"1\" class=\"dataframe\">\n",
       "  <thead>\n",
       "    <tr style=\"text-align: right;\">\n",
       "      <th></th>\n",
       "      <th>division</th>\n",
       "      <th>level of education</th>\n",
       "      <th>training level</th>\n",
       "      <th>work experience</th>\n",
       "      <th>salary</th>\n",
       "      <th>sales</th>\n",
       "      <th>division_encoded</th>\n",
       "      <th>level_education_encoded</th>\n",
       "      <th>noise1</th>\n",
       "      <th>noise2</th>\n",
       "    </tr>\n",
       "  </thead>\n",
       "  <tbody>\n",
       "    <tr>\n",
       "      <th>0</th>\n",
       "      <td>peripherals</td>\n",
       "      <td>some college</td>\n",
       "      <td>1</td>\n",
       "      <td>6</td>\n",
       "      <td>86465</td>\n",
       "      <td>374255</td>\n",
       "      <td>3</td>\n",
       "      <td>4</td>\n",
       "      <td>0.374540</td>\n",
       "      <td>0.000217</td>\n",
       "    </tr>\n",
       "    <tr>\n",
       "      <th>1</th>\n",
       "      <td>printers</td>\n",
       "      <td>associate's degree</td>\n",
       "      <td>1</td>\n",
       "      <td>8</td>\n",
       "      <td>94571</td>\n",
       "      <td>377561</td>\n",
       "      <td>4</td>\n",
       "      <td>0</td>\n",
       "      <td>0.950714</td>\n",
       "      <td>0.046730</td>\n",
       "    </tr>\n",
       "    <tr>\n",
       "      <th>2</th>\n",
       "      <td>printers</td>\n",
       "      <td>some college</td>\n",
       "      <td>1</td>\n",
       "      <td>11</td>\n",
       "      <td>110711</td>\n",
       "      <td>467281</td>\n",
       "      <td>4</td>\n",
       "      <td>4</td>\n",
       "      <td>0.731994</td>\n",
       "      <td>0.506917</td>\n",
       "    </tr>\n",
       "    <tr>\n",
       "      <th>3</th>\n",
       "      <td>office supplies</td>\n",
       "      <td>some college</td>\n",
       "      <td>2</td>\n",
       "      <td>0</td>\n",
       "      <td>60898</td>\n",
       "      <td>268977</td>\n",
       "      <td>2</td>\n",
       "      <td>4</td>\n",
       "      <td>0.598658</td>\n",
       "      <td>0.210486</td>\n",
       "    </tr>\n",
       "    <tr>\n",
       "      <th>4</th>\n",
       "      <td>printers</td>\n",
       "      <td>some college</td>\n",
       "      <td>2</td>\n",
       "      <td>9</td>\n",
       "      <td>103546</td>\n",
       "      <td>457900</td>\n",
       "      <td>4</td>\n",
       "      <td>4</td>\n",
       "      <td>0.156019</td>\n",
       "      <td>0.341339</td>\n",
       "    </tr>\n",
       "  </tbody>\n",
       "</table>\n",
       "</div>"
      ],
      "text/plain": [
       "          division  level of education  training level  work experience  \\\n",
       "0      peripherals        some college               1                6   \n",
       "1         printers  associate's degree               1                8   \n",
       "2         printers        some college               1               11   \n",
       "3  office supplies        some college               2                0   \n",
       "4         printers        some college               2                9   \n",
       "\n",
       "   salary   sales  division_encoded  level_education_encoded    noise1  \\\n",
       "0   86465  374255                 3                        4  0.374540   \n",
       "1   94571  377561                 4                        0  0.950714   \n",
       "2  110711  467281                 4                        4  0.731994   \n",
       "3   60898  268977                 2                        4  0.598658   \n",
       "4  103546  457900                 4                        4  0.156019   \n",
       "\n",
       "     noise2  \n",
       "0  0.000217  \n",
       "1  0.046730  \n",
       "2  0.506917  \n",
       "3  0.210486  \n",
       "4  0.341339  "
      ]
     },
     "execution_count": 87,
     "metadata": {},
     "output_type": "execute_result"
    }
   ],
   "source": [
    "df.head()"
   ]
  },
  {
   "cell_type": "code",
   "execution_count": 88,
   "metadata": {
    "collapsed": false
   },
   "outputs": [
    {
     "name": "stdout",
     "output_type": "stream",
     "text": [
      "dimension du subset d'entrainement: (700, 7)\n",
      "dimension du subset de test: (300, 7)\n"
     ]
    }
   ],
   "source": [
    "X = df.drop([\"level of education\",\"division\",\"level_education_encoded\"], axis=1) # variables explicatives = élément de l'analyse\n",
    "y = df[\"level_education_encoded\"] # variable expliquée = objectif de l'analyse\n",
    "X_train, X_test, y_train, y_test = train_test_split(X, y, test_size = 0.3, random_state=42)\n",
    "print(f\"dimension du subset d'entrainement: {X_train.shape}\")\n",
    "print(f\"dimension du subset de test: {X_test.shape}\")"
   ]
  },
  {
   "cell_type": "code",
   "execution_count": 89,
   "metadata": {
    "collapsed": false
   },
   "outputs": [
    {
     "data": {
      "text/html": [
       "<div>\n",
       "<style scoped>\n",
       "    .dataframe tbody tr th:only-of-type {\n",
       "        vertical-align: middle;\n",
       "    }\n",
       "\n",
       "    .dataframe tbody tr th {\n",
       "        vertical-align: top;\n",
       "    }\n",
       "\n",
       "    .dataframe thead th {\n",
       "        text-align: right;\n",
       "    }\n",
       "</style>\n",
       "<table border=\"1\" class=\"dataframe\">\n",
       "  <thead>\n",
       "    <tr style=\"text-align: right;\">\n",
       "      <th></th>\n",
       "      <th>training level</th>\n",
       "      <th>work experience</th>\n",
       "      <th>salary</th>\n",
       "      <th>sales</th>\n",
       "      <th>division_encoded</th>\n",
       "      <th>noise1</th>\n",
       "      <th>noise2</th>\n",
       "    </tr>\n",
       "  </thead>\n",
       "  <tbody>\n",
       "    <tr>\n",
       "      <th>541</th>\n",
       "      <td>1</td>\n",
       "      <td>8</td>\n",
       "      <td>97748</td>\n",
       "      <td>377476</td>\n",
       "      <td>3</td>\n",
       "      <td>0.606175</td>\n",
       "      <td>0.000014</td>\n",
       "    </tr>\n",
       "    <tr>\n",
       "      <th>440</th>\n",
       "      <td>0</td>\n",
       "      <td>3</td>\n",
       "      <td>60608</td>\n",
       "      <td>135029</td>\n",
       "      <td>4</td>\n",
       "      <td>0.084838</td>\n",
       "      <td>0.858345</td>\n",
       "    </tr>\n",
       "  </tbody>\n",
       "</table>\n",
       "</div>"
      ],
      "text/plain": [
       "     training level  work experience  salary   sales  division_encoded  \\\n",
       "541               1                8   97748  377476                 3   \n",
       "440               0                3   60608  135029                 4   \n",
       "\n",
       "       noise1    noise2  \n",
       "541  0.606175  0.000014  \n",
       "440  0.084838  0.858345  "
      ]
     },
     "execution_count": 89,
     "metadata": {},
     "output_type": "execute_result"
    }
   ],
   "source": [
    "X_train[0:2]"
   ]
  },
  {
   "attachments": {},
   "cell_type": "markdown",
   "id": "75b06824",
   "metadata": {},
   "source": [
    "### Question\n",
    "Comparer les performances du modèle entrainé sur les données initiales puis sur les données bruitées."
   ]
  },
  {
   "cell_type": "code",
   "execution_count": 90,
   "metadata": {
    "collapsed": false
   },
   "outputs": [
    {
     "name": "stdout",
     "output_type": "stream",
     "text": [
      "Accuracy: 0.42\n",
      "Accuracy: 0.47\n"
     ]
    }
   ],
   "source": [
    "# Création du modèle\n",
    "from sklearn.discriminant_analysis import LinearDiscriminantAnalysis\n",
    "model = LinearDiscriminantAnalysis()\n",
    "\n",
    "X_train_init = X_train.loc[::, [\"training level\",\"work experience\",\"salary\",\"sales\",\"division_encoded\"]]\n",
    "X_test_init = X_test.loc[::, [\"training level\",\"work experience\",\"salary\",\"sales\",\"division_encoded\"]]\n",
    "# entrainement avec les données initiales\n",
    "model_init = model.fit(X_train_init, y_train)\n",
    "accuracy_init = model_init.score(X_test_init, y_test)\n",
    "# Prédiction sur le subset de test, pas obligatoire pour le TP\n",
    "# predict_init = model_init.predict(X_test_init)\n",
    "# entrainement avec les données bruitées\n",
    "model_noise = model.fit(X_train, y_train)\n",
    "accuracy_noise = model_noise.score(X_test, y_test)\n",
    "# Prédiction sur le subset de test, pas obligatoire pour le TP\n",
    "# predict_noise = model_noise.predict(X_test)\n",
    "print(f\"Accuracy: {accuracy_init:.2f}\")\n",
    "print(f\"Accuracy: {accuracy_noise:.2f}\")"
   ]
  },
  {
   "cell_type": "markdown",
   "metadata": {
    "collapsed": false
   },
   "source": [
    "### Correction\n"
   ]
  },
  {
   "cell_type": "markdown",
   "id": "d064e07e",
   "metadata": {},
   "source": [
    "# Filtrage\n",
    "La famille de filtrage est appliquée sans faire appel à un modèle prédictif.\n",
    "Elle permet de maximiser l'information mutuelle entre la variable d'entrée et celle de sortie.\n",
    "Elle minimise la redondance entre les variables d'entrée.\n",
    "NB: Une coopération sous optimale avec le modèle prédictif qui n'intervient pas dans la sélection.\n",
    "Cette approche présente un coût inférieur à celui de l'approche Wrapper.\n",
    "\n",
    "## Suppression de variables à faible variance\n",
    "La suppression de variables à faible variance consiste à éliminer les variables dont la variance est inférieure à un seuil (par défaut la valeur du seuil est 0, sont donc éliminées les variables constantes).\n",
    "[Voir plus](https://scikit-learn.org/stable/modules/feature_selection.html#removing-features-with-low-variance)"
   ]
  },
  {
   "cell_type": "markdown",
   "metadata": {
    "collapsed": false
   },
   "source": [
    "Proposer une suppression de variables en utilisant le code ci-dessous"
   ]
  },
  {
   "cell_type": "code",
   "execution_count": 91,
   "metadata": {
    "collapsed": false
   },
   "outputs": [
    {
     "name": "stdout",
     "output_type": "stream",
     "text": [
      "['work experience' 'salary' 'sales']\n"
     ]
    }
   ],
   "source": [
    "# Exemple de filtrage avec la suppression de variables à faible variance\n",
    "from sklearn.feature_selection import VarianceThreshold\n",
    "x_threshold = X_train.loc[::, [\"training level\",\"work experience\",\"salary\",\"sales\",\"division_encoded\",\"noise1\",\"noise2\"]]\n",
    "selector = VarianceThreshold(threshold=2.0)\n",
    "\n",
    "selector.fit_transform(x_threshold)\n",
    "print(selector.get_feature_names_out())"
   ]
  },
  {
   "cell_type": "code",
   "execution_count": 92,
   "metadata": {
    "collapsed": false
   },
   "outputs": [
    {
     "name": "stdout",
     "output_type": "stream",
     "text": [
      "training level: 0.88\n",
      "work experience: 8.34\n",
      "salary: 324060303.96\n",
      "sales: 12446796814.67\n",
      "division_encoded: 1.73\n",
      "noise1: 0.09\n",
      "noise2: 0.07\n"
     ]
    }
   ],
   "source": [
    "# affichage des variances des différentes variables\n",
    "for column, variance in zip(x_threshold.columns, selector.variances_):\n",
    "    print(f\"{column}: {variance:.2f}\")"
   ]
  },
  {
   "cell_type": "code",
   "execution_count": 73,
   "metadata": {
    "collapsed": false
   },
   "outputs": [
    {
     "name": "stdout",
     "output_type": "stream",
     "text": [
      "['salary' 'sales']\n"
     ]
    }
   ],
   "source": [
    "# Fixer un seuil de variance à 10 pour éliminer quelques variables\n",
    "selector = VarianceThreshold(threshold=10)\n",
    "selector.fit_transform(x_threshold)\n",
    "print(selector.get_feature_names_out())"
   ]
  },
  {
   "cell_type": "code",
   "execution_count": null,
   "metadata": {
    "collapsed": false
   },
   "outputs": [],
   "source": [
    "# Affichage des variables sélectionnées\n",
    "# TODO"
   ]
  },
  {
   "attachments": {},
   "cell_type": "markdown",
   "id": "41dac6be",
   "metadata": {},
   "source": [
    "### Question\n",
    "Commenter la variance des variables ajoutées (pour `threshold=10`)\n",
    "A travers une autre combinaison de variables, proposer une 2ème classification via le même modèle étudié `from sklearn.discriminant_analysis import LinearDiscriminantAnalysis`.\n",
    "Commenter le résultat obtenu.\n",
    "\n",
    "### Réponse\n",
    "Les variables salary et sales apportent beaucoup d'informations étant donné qu'elles ont une grande variance. Les variables training level, work experience et division_encoded n'apportent pas beaucoup d'informations en vu de leur faible variance."
   ]
  },
  {
   "cell_type": "markdown",
   "id": "72424a5f",
   "metadata": {},
   "source": [
    "### Correction\n"
   ]
  },
  {
   "cell_type": "code",
   "execution_count": null,
   "id": "30e70536",
   "metadata": {},
   "outputs": [],
   "source": [
    "model = LinearDiscriminantAnalysis()\n",
    "# TODO"
   ]
  },
  {
   "cell_type": "markdown",
   "metadata": {
    "collapsed": false
   },
   "source": []
  },
  {
   "cell_type": "markdown",
   "id": "1c41a56d",
   "metadata": {},
   "source": [
    "## Sélection univariée\n",
    "La sélection univariées cherche à déterminer (à travers des tests statistiques comme le test de `Chi2`) dans quelle mesure chaque variable d'entrée \"explique\" la variable de sortie; les variables les moins explicatives individuellement sont éliminées.\n",
    "\n",
    "Cette méthode élimine les variables pour lesquelles les valeurs de l'information mutuelle avec la variable de sortie sont les plus faibles (c'est à dire, qui « expliquent » le moins bien la variable de sortie). Nous avons l'intention de garder la moitié des variables et utilisons donc la fonction `SelectKBest` (d'autres sont disponibles, voir la documentation).\n",
    "\n",
    "[Doc. sélection univariée](https://scikit-learn.org/stable/modules/feature_selection.html#univariate-feature-selection)\n",
    "[Doc. information mutuelle pour la classification](https://scikit-learn.org/stable/modules/generated/sklearn.feature_selection.mutual_info_classif.html#sklearn.feature_selection.mutual_info_classif)"
   ]
  },
  {
   "cell_type": "markdown",
   "metadata": {
    "collapsed": false
   },
   "source": [
    "### Question\n",
    "Utilisez la sélection univariée pour sélectionner les meilleurs groupe de variables qui explique le mieux la variable expliquée."
   ]
  },
  {
   "cell_type": "markdown",
   "metadata": {
    "collapsed": false
   },
   "source": [
    "### Correction"
   ]
  },
  {
   "cell_type": "code",
   "execution_count": 94,
   "metadata": {
    "collapsed": false
   },
   "outputs": [
    {
     "name": "stdout",
     "output_type": "stream",
     "text": [
      "[False  True  True  True False False False]\n",
      "['work experience' 'salary' 'sales']\n"
     ]
    }
   ],
   "source": [
    "# Exemple de filtrage avec la sélection univariée\n",
    "from sklearn.feature_selection import SelectKBest, f_oneway\n",
    "selector = SelectKBest(score_func=f_oneway, k=3)\n",
    "selector.fit_transform(X_train, y_train)\n",
    "print(selector.get_support())\n",
    "print(selector.get_feature_names_out())"
   ]
  },
  {
   "cell_type": "markdown",
   "id": "34db644c",
   "metadata": {},
   "source": [
    "### Question\n",
    "Que constatez-vous par rapport aux variables ajoutées (bruit) ?"
   ]
  },
  {
   "cell_type": "markdown",
   "metadata": {
    "collapsed": false
   },
   "source": [
    "### Correction"
   ]
  },
  {
   "cell_type": "markdown",
   "id": "0c20c1dc",
   "metadata": {},
   "source": [
    "### Question\n",
    "Décrire la performance du modèle décisionnel. Comparer aux résultats obtenus par la méthode précédente."
   ]
  },
  {
   "cell_type": "code",
   "execution_count": null,
   "id": "643d366f",
   "metadata": {},
   "outputs": [],
   "source": []
  },
  {
   "cell_type": "markdown",
   "id": "5e85ddbe",
   "metadata": {},
   "source": [
    "### Correction"
   ]
  },
  {
   "cell_type": "markdown",
   "id": "56c386c1",
   "metadata": {},
   "source": [
    "# Wrapper\n",
    "La famille Wrapper coopère directement avec le modèle prédictif.\n",
    "Choix des variables qui maximisent les performances du modèle.\n",
    "**Inconvénients :**\n",
    "- Coût élevé\n",
    "- Pas de justification théorique de la sélection des variables\n",
    "- Incompréhension des relations de dépendances entre les variables.\n",
    "- La procédure de sélection est spécifique au modèle utilisé.\n",
    "\n",
    "## Sélection séquentielle\n",
    "Un modèle décisionnel doit être développé sur chaque (sous-)ensemble candidat de variables d'entrée et c'est la performance du modèle qui caractérise le (sous-)ensemble de variable. Deux versions sont proposées, une incrémentale (*Forward-SFS*) et une décrémentale (*Backward-SFS*).\n",
    "[Voir plus](https://scikit-learn.org/stable/modules/feature_selection.html#sequential-feature-selection)"
   ]
  },
  {
   "cell_type": "markdown",
   "id": "96ccdf04",
   "metadata": {},
   "source": [
    "## Elimination récursive de variables\n",
    "**Principe:** apprentissage du modèle sur la totalité des variables d'entrée pour extraire la pertinence de chaque variable (variance).\n",
    "[Voir plus](https://scikit-learn.org/stable/modules/feature_selection.html#recursive-feature-elimination)\n",
    "\n",
    "## Sélection avec SelectFromModel\n",
    "**Principe:** apprentissage du modèle sur la totalité des variables d'entrée pour extraire la pertinence de chaque variable (variance).\n",
    "[Voir plus](https://scikit-learn.org/stable/modules/feature_selection.html#feature-selection-using-selectfrommodel)"
   ]
  },
  {
   "cell_type": "markdown",
   "id": "9c0c0813",
   "metadata": {},
   "source": [
    "# Embedding\n",
    "L'embedding (ou l'intégration) est une opération de sélection qui est intégrée à la méthode de construction de modèle. Pas de sur-coût par rapport à la construction du modèle mais cette approche ne peut pas être utilisée avec tout type de modèle.\n"
   ]
  },
  {
   "cell_type": "markdown",
   "metadata": {
    "collapsed": false
   },
   "source": [
    "# Exercice\n",
    "Quelles sont les meilleures caractéristiques du dataset `sales.csv` qui permettent de prédire au mieux le salaire ?\n",
    "**Note:** Vous pouvez utiliser ce modèle: `from sklearn.linear_model import LinearRegression`\n"
   ]
  },
  {
   "cell_type": "markdown",
   "metadata": {
    "collapsed": false
   },
   "source": [
    "# TP suivant ?\n",
    "TP n°6: La réduction des variables par réduction des dimensions --> ACP.\n"
   ]
  }
 ],
 "metadata": {
  "date": 1646844993.5806804,
  "filename": "tpSelectionVariables.rst",
  "kernelspec": {
   "display_name": "Python 3",
   "language": "python",
   "name": "python3"
  },
  "language_info": {
   "codemirror_mode": {
    "name": "ipython",
    "version": 3
   },
   "file_extension": ".py",
   "mimetype": "text/x-python",
   "name": "python",
   "nbconvert_exporter": "python",
   "pygments_lexer": "ipython3",
   "version": "3.11.1"
  },
  "title": "Travaux pratiques - Sélection de variables",
  "vscode": {
   "interpreter": {
    "hash": "6a3aa03581f91e835e3e6226cbd24d085324464c633eba87e659030a6b0ef25e"
   }
  }
 },
 "nbformat": 4,
 "nbformat_minor": 5
}
