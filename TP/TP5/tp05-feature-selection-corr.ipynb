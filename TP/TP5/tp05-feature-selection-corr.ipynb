{
 "cells": [
  {
   "cell_type": "markdown",
   "id": "da7e4d06",
   "metadata": {},
   "source": [
    "# TP n°4 - Feature selection\n",
    "**Objectif:**\n",
    "\n",
    "Ce TP vise à étudier quelques méthodes de sélection de variables (Filtrage) en utilisant la bibliothèque Scikit-learn.\n",
    "\n",
    "[Documentation scikit-learn -> feature selection](https://scikit-learn.org/stable/modules/feature_selection.html)\n",
    "\n",
    "Durant ce TP, on va aussi utiliser un modèle de réduction de variables (AFD).\n",
    "Dans Scikit-learn, l'analyse factorielle discriminante (AFD) est mise en oeuvre dans la classe [LinearDiscriminantAnalysis](http://scikit-learn.org/stable/modules/generated/sklearn.discriminant_analysis.LinearDiscriminantAnalysis.html)"
   ]
  },
  {
   "cell_type": "markdown",
   "id": "9174a96d",
   "metadata": {},
   "source": [
    "# Scikit-learn\n",
    "Scikit-learn ou sklearn est une bibliothèque python libre conçue pour effectuer de l'apprentissage automatique.\n",
    "Elle propose un set d'algorithmes de classification, régression et regroupement etc.\n",
    "\n",
    "# Dataset\n",
    "Pour illustrer le propos, on va utiliser le dataset `sales.csv` et nous allons ajouter des variables aléatoires qui représentent du bruit.\n"
   ]
  },
  {
   "cell_type": "code",
   "execution_count": 63,
   "id": "ae1133f3",
   "metadata": {},
   "outputs": [
    {
     "data": {
      "text/plain": "   division  level of education  training level  work experience  salary  \\\n0  printers  associate's degree               0                7   82712   \n1  printers        some college               2                3   75645   \n\n    sales  \n0  307122  \n1  221423  ",
      "text/html": "<div>\n<style scoped>\n    .dataframe tbody tr th:only-of-type {\n        vertical-align: middle;\n    }\n\n    .dataframe tbody tr th {\n        vertical-align: top;\n    }\n\n    .dataframe thead th {\n        text-align: right;\n    }\n</style>\n<table border=\"1\" class=\"dataframe\">\n  <thead>\n    <tr style=\"text-align: right;\">\n      <th></th>\n      <th>division</th>\n      <th>level of education</th>\n      <th>training level</th>\n      <th>work experience</th>\n      <th>salary</th>\n      <th>sales</th>\n    </tr>\n  </thead>\n  <tbody>\n    <tr>\n      <th>0</th>\n      <td>printers</td>\n      <td>associate's degree</td>\n      <td>0</td>\n      <td>7</td>\n      <td>82712</td>\n      <td>307122</td>\n    </tr>\n    <tr>\n      <th>1</th>\n      <td>printers</td>\n      <td>some college</td>\n      <td>2</td>\n      <td>3</td>\n      <td>75645</td>\n      <td>221423</td>\n    </tr>\n  </tbody>\n</table>\n</div>"
     },
     "execution_count": 63,
     "metadata": {},
     "output_type": "execute_result"
    }
   ],
   "source": [
    "# Chargement du dataset sales.csv\n",
    "import numpy as np\n",
    "import pandas as pd\n",
    "\n",
    "df = pd.read_csv('../datasets/sales.csv')\n",
    "df.head(2)"
   ]
  },
  {
   "cell_type": "code",
   "execution_count": 64,
   "id": "1cefc34d",
   "metadata": {},
   "outputs": [
    {
     "name": "stdout",
     "output_type": "stream",
     "text": [
      "(1000, 6)\n"
     ]
    }
   ],
   "source": [
    "# Dimension du dataset\n",
    "print(df.shape)"
   ]
  },
  {
   "cell_type": "markdown",
   "id": "374e6e87",
   "metadata": {},
   "source": [
    "Pour l'exemple, on va supposer que la variable `level of education` (variable expliquée) contient les étiquettes des classes.\n",
    "\n",
    "Pour référence, appliquons l'étape décisionnelle de l'analyse discriminante (comme modèle décisionnel) sur les données initiales et ensuite sur les données auxquelles les nouvelles variables aléatoires ont été ajoutées :"
   ]
  },
  {
   "cell_type": "code",
   "execution_count": 65,
   "id": "098271e5",
   "metadata": {},
   "outputs": [
    {
     "data": {
      "text/plain": "              division level of education  training level  work experience  \\\n998  computer hardware       some college               1                7   \n999        peripherals       some college               2                3   \n\n     salary   sales  division labels  education labels      var1      var2  \n998   97445  354507                0                 4  0.950237 -0.429302  \n999   76189  307107                3                 4  0.446006 -0.692421  ",
      "text/html": "<div>\n<style scoped>\n    .dataframe tbody tr th:only-of-type {\n        vertical-align: middle;\n    }\n\n    .dataframe tbody tr th {\n        vertical-align: top;\n    }\n\n    .dataframe thead th {\n        text-align: right;\n    }\n</style>\n<table border=\"1\" class=\"dataframe\">\n  <thead>\n    <tr style=\"text-align: right;\">\n      <th></th>\n      <th>division</th>\n      <th>level of education</th>\n      <th>training level</th>\n      <th>work experience</th>\n      <th>salary</th>\n      <th>sales</th>\n      <th>division labels</th>\n      <th>education labels</th>\n      <th>var1</th>\n      <th>var2</th>\n    </tr>\n  </thead>\n  <tbody>\n    <tr>\n      <th>998</th>\n      <td>computer hardware</td>\n      <td>some college</td>\n      <td>1</td>\n      <td>7</td>\n      <td>97445</td>\n      <td>354507</td>\n      <td>0</td>\n      <td>4</td>\n      <td>0.950237</td>\n      <td>-0.429302</td>\n    </tr>\n    <tr>\n      <th>999</th>\n      <td>peripherals</td>\n      <td>some college</td>\n      <td>2</td>\n      <td>3</td>\n      <td>76189</td>\n      <td>307107</td>\n      <td>3</td>\n      <td>4</td>\n      <td>0.446006</td>\n      <td>-0.692421</td>\n    </tr>\n  </tbody>\n</table>\n</div>"
     },
     "execution_count": 65,
     "metadata": {},
     "output_type": "execute_result"
    }
   ],
   "source": [
    "# Préparation des subsets d'entrainement et de test\n",
    "from sklearn.model_selection import train_test_split\n",
    "from sklearn.preprocessing import LabelEncoder\n",
    "\n",
    "# Encoding des variables catégorielles\n",
    "label_encoder = LabelEncoder()\n",
    "df['division labels'] = label_encoder.fit_transform(df['division'])\n",
    "df['education labels'] = label_encoder.fit_transform(df['level of education'])\n",
    "\n",
    "# Ajout de 2 variables pour bruiter\n",
    "np.random.seed(42)\n",
    "df['var1'] = np.random.uniform(0, 1, size=len(df)) # loi uniforme\n",
    "df['var2'] = np.random.randn(len(df), 1) # loi normale\n",
    "\n",
    "df.tail(2)"
   ]
  },
  {
   "cell_type": "code",
   "execution_count": 66,
   "outputs": [
    {
     "name": "stdout",
     "output_type": "stream",
     "text": [
      "dimension du subset d'entrainement: (500, 7)\n",
      "dimension du subset de test: (500, 7)\n"
     ]
    }
   ],
   "source": [
    "X = df.drop(['level of education', 'education labels', 'division'], axis=1) # variables explicatives\n",
    "y = df['education labels'] # variable expliquée\n",
    "X_train, X_test, y_train, y_test = train_test_split(X, y, test_size = 0.5, random_state=42)\n",
    "print(f\"dimension du subset d'entrainement: {X_train.shape}\")\n",
    "print(f\"dimension du subset de test: {X_test.shape}\")"
   ],
   "metadata": {
    "collapsed": false
   }
  },
  {
   "cell_type": "code",
   "execution_count": 67,
   "outputs": [
    {
     "data": {
      "text/plain": "     training level  work experience  salary   sales  division labels  \\\n680               1                6   85795  307952                0   \n177               2               10  112332  488069                0   \n\n         var1      var2  \n680  0.817072 -0.138456  \n177  0.386735  0.456753  ",
      "text/html": "<div>\n<style scoped>\n    .dataframe tbody tr th:only-of-type {\n        vertical-align: middle;\n    }\n\n    .dataframe tbody tr th {\n        vertical-align: top;\n    }\n\n    .dataframe thead th {\n        text-align: right;\n    }\n</style>\n<table border=\"1\" class=\"dataframe\">\n  <thead>\n    <tr style=\"text-align: right;\">\n      <th></th>\n      <th>training level</th>\n      <th>work experience</th>\n      <th>salary</th>\n      <th>sales</th>\n      <th>division labels</th>\n      <th>var1</th>\n      <th>var2</th>\n    </tr>\n  </thead>\n  <tbody>\n    <tr>\n      <th>680</th>\n      <td>1</td>\n      <td>6</td>\n      <td>85795</td>\n      <td>307952</td>\n      <td>0</td>\n      <td>0.817072</td>\n      <td>-0.138456</td>\n    </tr>\n    <tr>\n      <th>177</th>\n      <td>2</td>\n      <td>10</td>\n      <td>112332</td>\n      <td>488069</td>\n      <td>0</td>\n      <td>0.386735</td>\n      <td>0.456753</td>\n    </tr>\n  </tbody>\n</table>\n</div>"
     },
     "execution_count": 67,
     "metadata": {},
     "output_type": "execute_result"
    }
   ],
   "source": [
    "X_train[0:2]"
   ],
   "metadata": {
    "collapsed": false
   }
  },
  {
   "cell_type": "code",
   "execution_count": 68,
   "outputs": [
    {
     "name": "stdout",
     "output_type": "stream",
     "text": [
      "accuracy on the original test subset: 0.49\n",
      "accuracy on the modified test subset: 0.49\n"
     ]
    }
   ],
   "source": [
    "# Création du modèle\n",
    "from sklearn.discriminant_analysis import LinearDiscriminantAnalysis\n",
    "model = LinearDiscriminantAnalysis()\n",
    "\n",
    "# données initiales\n",
    "X_train_org = X_train.iloc[:,0:5]\n",
    "X_test_org = X_test.iloc[:,0:5]\n",
    "\n",
    "model.fit(X_train_org, y_train)\n",
    "print(f\"accuracy on the original test subset: {model.score(X_test_org, y_test):.2f}\")\n",
    "\n",
    "# entrainement avec les données bruitées\n",
    "model.fit(X_train, y_train)\n",
    "print(f\"accuracy on the modified test subset: {model.score(X_test, y_test):.2f}\")"
   ],
   "metadata": {
    "collapsed": false
   }
  },
  {
   "cell_type": "markdown",
   "source": [
    "### Question\n",
    "Comparer les performances du modèle entrainé sur les données initiales puis sur les données bruitées."
   ],
   "metadata": {
    "collapsed": false
   }
  },
  {
   "cell_type": "markdown",
   "id": "75b06824",
   "metadata": {},
   "source": [
    "### Correction\n",
    "On peut constater que la présence des nouvelles variables, de valeurs aléatoires, a un impact négatif sur la capacité de généralisation du modèle décisionnel construit."
   ]
  },
  {
   "cell_type": "markdown",
   "id": "d064e07e",
   "metadata": {},
   "source": [
    "# Filtrage\n",
    "La famille de filtrage est appliquée sans faire appel à un modèle prédictif.\n",
    "Elle permet de maximiser l'information mutuelle entre la variable d'entrée et celle de sortie.\n",
    "Elle minimise la redondance entre les variables d'entrée.\n",
    "NB: Une coopération sous optimale avec le modèle prédictif qui n'intervient pas dans la sélection.\n",
    "Cette approche présente un coût inférieur à celui de l'approche Wrapper.\n",
    "\n",
    "## Suppression de variables à faible variance\n",
    "La suppression de variables à faible variance consiste à éliminer les variables dont la variance est inférieure à un seuil (par défaut la valeur du seuil est 0, sont donc éliminées les variables constantes).\n",
    "[Voir plus](https://scikit-learn.org/stable/modules/feature_selection.html#removing-features-with-low-variance)"
   ]
  },
  {
   "cell_type": "code",
   "execution_count": 69,
   "outputs": [
    {
     "data": {
      "text/plain": "     training level  work experience  salary   sales  division labels  \\\n680               1                6   85795  307952                0   \n177               2               10  112332  488069                0   \n395               2                4   77729  308041                2   \n\n         var1      var2  \n680  0.817072 -0.138456  \n177  0.386735  0.456753  \n395  0.930757 -0.280675  ",
      "text/html": "<div>\n<style scoped>\n    .dataframe tbody tr th:only-of-type {\n        vertical-align: middle;\n    }\n\n    .dataframe tbody tr th {\n        vertical-align: top;\n    }\n\n    .dataframe thead th {\n        text-align: right;\n    }\n</style>\n<table border=\"1\" class=\"dataframe\">\n  <thead>\n    <tr style=\"text-align: right;\">\n      <th></th>\n      <th>training level</th>\n      <th>work experience</th>\n      <th>salary</th>\n      <th>sales</th>\n      <th>division labels</th>\n      <th>var1</th>\n      <th>var2</th>\n    </tr>\n  </thead>\n  <tbody>\n    <tr>\n      <th>680</th>\n      <td>1</td>\n      <td>6</td>\n      <td>85795</td>\n      <td>307952</td>\n      <td>0</td>\n      <td>0.817072</td>\n      <td>-0.138456</td>\n    </tr>\n    <tr>\n      <th>177</th>\n      <td>2</td>\n      <td>10</td>\n      <td>112332</td>\n      <td>488069</td>\n      <td>0</td>\n      <td>0.386735</td>\n      <td>0.456753</td>\n    </tr>\n    <tr>\n      <th>395</th>\n      <td>2</td>\n      <td>4</td>\n      <td>77729</td>\n      <td>308041</td>\n      <td>2</td>\n      <td>0.930757</td>\n      <td>-0.280675</td>\n    </tr>\n  </tbody>\n</table>\n</div>"
     },
     "execution_count": 69,
     "metadata": {},
     "output_type": "execute_result"
    }
   ],
   "source": [
    "X_train.iloc[0:3]"
   ],
   "metadata": {
    "collapsed": false
   }
  },
  {
   "cell_type": "code",
   "execution_count": 70,
   "outputs": [
    {
     "data": {
      "text/plain": "680    0\n177    2\n395    0\nName: education labels, dtype: int64"
     },
     "execution_count": 70,
     "metadata": {},
     "output_type": "execute_result"
    }
   ],
   "source": [
    "y_train.iloc[0:3]"
   ],
   "metadata": {
    "collapsed": false
   }
  },
  {
   "cell_type": "code",
   "execution_count": 71,
   "outputs": [
    {
     "data": {
      "text/plain": "              division  level of education  training level  work experience  \\\n680  computer hardware  associate's degree               1                6   \n177  computer hardware         high school               2               10   \n395    office supplies  associate's degree               2                4   \n\n     salary   sales  division labels  education labels      var1      var2  \n680   85795  307952                0                 0  0.817072 -0.138456  \n177  112332  488069                0                 2  0.386735  0.456753  \n395   77729  308041                2                 0  0.930757 -0.280675  ",
      "text/html": "<div>\n<style scoped>\n    .dataframe tbody tr th:only-of-type {\n        vertical-align: middle;\n    }\n\n    .dataframe tbody tr th {\n        vertical-align: top;\n    }\n\n    .dataframe thead th {\n        text-align: right;\n    }\n</style>\n<table border=\"1\" class=\"dataframe\">\n  <thead>\n    <tr style=\"text-align: right;\">\n      <th></th>\n      <th>division</th>\n      <th>level of education</th>\n      <th>training level</th>\n      <th>work experience</th>\n      <th>salary</th>\n      <th>sales</th>\n      <th>division labels</th>\n      <th>education labels</th>\n      <th>var1</th>\n      <th>var2</th>\n    </tr>\n  </thead>\n  <tbody>\n    <tr>\n      <th>680</th>\n      <td>computer hardware</td>\n      <td>associate's degree</td>\n      <td>1</td>\n      <td>6</td>\n      <td>85795</td>\n      <td>307952</td>\n      <td>0</td>\n      <td>0</td>\n      <td>0.817072</td>\n      <td>-0.138456</td>\n    </tr>\n    <tr>\n      <th>177</th>\n      <td>computer hardware</td>\n      <td>high school</td>\n      <td>2</td>\n      <td>10</td>\n      <td>112332</td>\n      <td>488069</td>\n      <td>0</td>\n      <td>2</td>\n      <td>0.386735</td>\n      <td>0.456753</td>\n    </tr>\n    <tr>\n      <th>395</th>\n      <td>office supplies</td>\n      <td>associate's degree</td>\n      <td>2</td>\n      <td>4</td>\n      <td>77729</td>\n      <td>308041</td>\n      <td>2</td>\n      <td>0</td>\n      <td>0.930757</td>\n      <td>-0.280675</td>\n    </tr>\n  </tbody>\n</table>\n</div>"
     },
     "execution_count": 71,
     "metadata": {},
     "output_type": "execute_result"
    }
   ],
   "source": [
    "idx = [680, 177, 395]\n",
    "df.iloc[idx]"
   ],
   "metadata": {
    "collapsed": false
   }
  },
  {
   "cell_type": "code",
   "execution_count": 72,
   "id": "9cfe49b5",
   "metadata": {},
   "outputs": [
    {
     "data": {
      "text/plain": "array([[ 1.00000000e+00,  6.00000000e+00,  8.57950000e+04,\n         3.07952000e+05,  0.00000000e+00,  8.17072071e-01,\n        -1.38455984e-01],\n       [ 2.00000000e+00,  1.00000000e+01,  1.12332000e+05,\n         4.88069000e+05,  0.00000000e+00,  3.86735346e-01,\n         4.56753219e-01],\n       [ 2.00000000e+00,  4.00000000e+00,  7.77290000e+04,\n         3.08041000e+05,  2.00000000e+00,  9.30757326e-01,\n        -2.80675077e-01]])"
     },
     "execution_count": 72,
     "metadata": {},
     "output_type": "execute_result"
    }
   ],
   "source": [
    "# Exemple de filtrage avec la suppression de variables à faible variance\n",
    "from sklearn.feature_selection import VarianceThreshold\n",
    "\n",
    "variance_threshold = VarianceThreshold(threshold=0)\n",
    "Xtrain_removed0variance = variance_threshold.fit_transform(X_train)\n",
    "Xtrain_removed0variance[0:3]"
   ]
  },
  {
   "cell_type": "code",
   "execution_count": 73,
   "outputs": [
    {
     "data": {
      "text/plain": "     training level  work experience  salary   sales  division labels  \\\n680               1                6   85795  307952                0   \n177               2               10  112332  488069                0   \n395               2                4   77729  308041                2   \n\n         var1      var2  \n680  0.817072 -0.138456  \n177  0.386735  0.456753  \n395  0.930757 -0.280675  ",
      "text/html": "<div>\n<style scoped>\n    .dataframe tbody tr th:only-of-type {\n        vertical-align: middle;\n    }\n\n    .dataframe tbody tr th {\n        vertical-align: top;\n    }\n\n    .dataframe thead th {\n        text-align: right;\n    }\n</style>\n<table border=\"1\" class=\"dataframe\">\n  <thead>\n    <tr style=\"text-align: right;\">\n      <th></th>\n      <th>training level</th>\n      <th>work experience</th>\n      <th>salary</th>\n      <th>sales</th>\n      <th>division labels</th>\n      <th>var1</th>\n      <th>var2</th>\n    </tr>\n  </thead>\n  <tbody>\n    <tr>\n      <th>680</th>\n      <td>1</td>\n      <td>6</td>\n      <td>85795</td>\n      <td>307952</td>\n      <td>0</td>\n      <td>0.817072</td>\n      <td>-0.138456</td>\n    </tr>\n    <tr>\n      <th>177</th>\n      <td>2</td>\n      <td>10</td>\n      <td>112332</td>\n      <td>488069</td>\n      <td>0</td>\n      <td>0.386735</td>\n      <td>0.456753</td>\n    </tr>\n    <tr>\n      <th>395</th>\n      <td>2</td>\n      <td>4</td>\n      <td>77729</td>\n      <td>308041</td>\n      <td>2</td>\n      <td>0.930757</td>\n      <td>-0.280675</td>\n    </tr>\n  </tbody>\n</table>\n</div>"
     },
     "execution_count": 73,
     "metadata": {},
     "output_type": "execute_result"
    }
   ],
   "source": [
    "X_train[0:3]"
   ],
   "metadata": {
    "collapsed": false
   }
  },
  {
   "cell_type": "code",
   "execution_count": 56,
   "outputs": [
    {
     "data": {
      "text/plain": "array([9.30796000e-01, 8.67897600e+00, 1.04496000e+05, 6.74525000e+05,\n       1.83865600e+00, 8.44071524e-02, 1.01471354e+00])"
     },
     "execution_count": 56,
     "metadata": {},
     "output_type": "execute_result"
    }
   ],
   "source": [
    "# affichage des variances des différentes variables\n",
    "variance_threshold.variances_"
   ],
   "metadata": {
    "collapsed": false
   }
  },
  {
   "cell_type": "code",
   "execution_count": 74,
   "outputs": [
    {
     "data": {
      "text/plain": "array([[ 85795., 307952.],\n       [112332., 488069.],\n       [ 77729., 308041.]])"
     },
     "execution_count": 74,
     "metadata": {},
     "output_type": "execute_result"
    }
   ],
   "source": [
    "# Fixer un seuil pour éliminer quelques variables\n",
    "variance_threshold10 = VarianceThreshold(threshold=10)\n",
    "X_train_best1 = variance_threshold10.fit_transform(X_train)\n",
    "X_train_best1[0:3]"
   ],
   "metadata": {
    "collapsed": false
   }
  },
  {
   "cell_type": "code",
   "execution_count": 59,
   "outputs": [
    {
     "data": {
      "text/plain": "array([9.30796000e-01, 8.67897600e+00, 3.19821440e+08, 1.16987994e+10,\n       1.83865600e+00, 8.44071524e-02, 1.01471354e+00])"
     },
     "execution_count": 59,
     "metadata": {},
     "output_type": "execute_result"
    }
   ],
   "source": [
    "# affichage des variances des différentes variables\n",
    "variance_threshold10.variances_"
   ],
   "metadata": {
    "collapsed": false
   }
  },
  {
   "cell_type": "code",
   "execution_count": 60,
   "outputs": [
    {
     "name": "stdout",
     "output_type": "stream",
     "text": [
      "[False False  True  True False False False]\n"
     ]
    }
   ],
   "source": [
    "# Les variables sélectionnées\n",
    "print(variance_threshold10.get_support())"
   ],
   "metadata": {
    "collapsed": false
   }
  },
  {
   "cell_type": "code",
   "execution_count": 75,
   "outputs": [
    {
     "name": "stdout",
     "output_type": "stream",
     "text": [
      "['salary' 'sales']\n"
     ]
    }
   ],
   "source": [
    "print(variance_threshold10.get_feature_names_out())"
   ],
   "metadata": {
    "collapsed": false
   }
  },
  {
   "cell_type": "markdown",
   "id": "41dac6be",
   "metadata": {},
   "source": [
    "### Question\n",
    "Commenter la variance des 3 variables ajoutées var1, var2 et var3. (pour `threshold=10`)\n",
    "A travers une autre combinaison de variables, proposer une 2ème classification via le même modèle étudié `from sklearn.discriminant_analysis import LinearDiscriminantAnalysis`.\n",
    "Commenter le résultat obtenu."
   ]
  },
  {
   "cell_type": "markdown",
   "id": "72424a5f",
   "metadata": {},
   "source": [
    "### Correction\n",
    "Pour `threshold=10`, selon la réponse de la méthode `variance_threshold2.get_support()`, les 3 variables var1, var2 et var3 ont été éliminées.\n",
    "Seules les 2 variables `sales` et `salary` ont été sélectionnées. Elles représentent les 2 meilleures variables respectives en terme d'importance de la variance.\n",
    "\n",
    "Examinons l'effet de cette sélection :"
   ]
  },
  {
   "cell_type": "code",
   "execution_count": 45,
   "id": "30e70536",
   "metadata": {},
   "outputs": [
    {
     "name": "stdout",
     "output_type": "stream",
     "text": [
      "accuracy on the best1 test subset: 0.47\n"
     ]
    }
   ],
   "source": [
    "model = LinearDiscriminantAnalysis()\n",
    "model.fit(X_train_best1, y_train)\n",
    "X_test_best1 = variance_threshold10.transform(X_test)\n",
    "print(f\"accuracy on the best1 test subset: {model.score(X_test_best1, y_test):.2f}\")"
   ]
  },
  {
   "cell_type": "markdown",
   "source": [
    "- Malgré la sélection des 2 meilleures variables en terme de variance, le modèle n'aboutit pas à une classification meilleure.\n",
    "- Néanmoins, avec cette sélection on a gardé presque le même niveau de performance 0.49 ~ 0.47\n",
    "- La réduction du nombre de variables explicatives réduit la complexité du modèle.\n",
    "- D'autres paramètres contribuent à une généralisation meilleure.\n",
    "- Avec un seuil 0, seulement 1 variable ajoutée sur 3 est éliminée car les variances des 2 autres sont bien supérieures à 0."
   ],
   "metadata": {
    "collapsed": false
   }
  },
  {
   "cell_type": "markdown",
   "id": "1c41a56d",
   "metadata": {},
   "source": [
    "## Sélection univariée\n",
    "La sélection univariées cherche à déterminer (à travers des tests statistiques comme le test de `Chi2`) dans quelle mesure chaque variable d'entrée \"explique\" la variable de sortie; les variables les moins explicatives individuellement sont éliminées.\n",
    "\n",
    "Cette méthode élimine les variables pour lesquelles les valeurs de l'information mutuelle avec la variable de sortie sont les plus faibles (c'est à dire, qui « expliquent » le moins bien la variable de sortie). Nous avons l'intention de garder la moitié des variables et utilisons donc la fonction `SelectKBest` (d'autres sont disponibles, voir la documentation).\n",
    "\n",
    "[Doc. sélection univariée](https://scikit-learn.org/stable/modules/feature_selection.html#univariate-feature-selection)\n",
    "[Doc. information mutuelle pour la classification](https://scikit-learn.org/stable/modules/generated/sklearn.feature_selection.mutual_info_classif.html#sklearn.feature_selection.mutual_info_classif)"
   ]
  },
  {
   "cell_type": "code",
   "execution_count": 81,
   "outputs": [
    {
     "name": "stdout",
     "output_type": "stream",
     "text": [
      "[False False  True  True False False False]\n"
     ]
    }
   ],
   "source": [
    "# Exemple de filtrage avec la sélection univariée\n",
    "from sklearn.feature_selection import SelectKBest, f_oneway\n",
    "kBestMutualInfo = SelectKBest(score_func=f_oneway, k=2) # aussi mutual_info_classif\n",
    "X_train_best2 = kBestMutualInfo.fit_transform(X_train, y_train)\n",
    "\n",
    "# variables conservées (celles avec True)\n",
    "print(kBestMutualInfo.get_support())"
   ],
   "metadata": {
    "collapsed": false
   }
  },
  {
   "cell_type": "code",
   "execution_count": 82,
   "outputs": [
    {
     "name": "stdout",
     "output_type": "stream",
     "text": [
      "['salary' 'sales']\n"
     ]
    }
   ],
   "source": [
    "print(kBestMutualInfo.get_feature_names_out())"
   ],
   "metadata": {
    "collapsed": false
   }
  },
  {
   "cell_type": "code",
   "execution_count": 80,
   "outputs": [
    {
     "data": {
      "text/plain": "     training level  work experience  salary   sales  division labels  \\\n680               1                6   85795  307952                0   \n177               2               10  112332  488069                0   \n395               2                4   77729  308041                2   \n\n         var1      var2  \n680  0.817072 -0.138456  \n177  0.386735  0.456753  \n395  0.930757 -0.280675  ",
      "text/html": "<div>\n<style scoped>\n    .dataframe tbody tr th:only-of-type {\n        vertical-align: middle;\n    }\n\n    .dataframe tbody tr th {\n        vertical-align: top;\n    }\n\n    .dataframe thead th {\n        text-align: right;\n    }\n</style>\n<table border=\"1\" class=\"dataframe\">\n  <thead>\n    <tr style=\"text-align: right;\">\n      <th></th>\n      <th>training level</th>\n      <th>work experience</th>\n      <th>salary</th>\n      <th>sales</th>\n      <th>division labels</th>\n      <th>var1</th>\n      <th>var2</th>\n    </tr>\n  </thead>\n  <tbody>\n    <tr>\n      <th>680</th>\n      <td>1</td>\n      <td>6</td>\n      <td>85795</td>\n      <td>307952</td>\n      <td>0</td>\n      <td>0.817072</td>\n      <td>-0.138456</td>\n    </tr>\n    <tr>\n      <th>177</th>\n      <td>2</td>\n      <td>10</td>\n      <td>112332</td>\n      <td>488069</td>\n      <td>0</td>\n      <td>0.386735</td>\n      <td>0.456753</td>\n    </tr>\n    <tr>\n      <th>395</th>\n      <td>2</td>\n      <td>4</td>\n      <td>77729</td>\n      <td>308041</td>\n      <td>2</td>\n      <td>0.930757</td>\n      <td>-0.280675</td>\n    </tr>\n  </tbody>\n</table>\n</div>"
     },
     "execution_count": 80,
     "metadata": {},
     "output_type": "execute_result"
    }
   ],
   "source": [
    "X_train[:3]"
   ],
   "metadata": {
    "collapsed": false
   }
  },
  {
   "cell_type": "markdown",
   "id": "34db644c",
   "metadata": {},
   "source": [
    "Les variables ajoutées, ont bien été éliminées par cette méthode."
   ]
  },
  {
   "cell_type": "markdown",
   "id": "0c20c1dc",
   "metadata": {},
   "source": [
    "### Question\n",
    "Décrire la performance du modèle décisionnel. Comparer aux résultats obtenus par la méthode précédente."
   ]
  },
  {
   "cell_type": "markdown",
   "id": "5e85ddbe",
   "metadata": {},
   "source": [
    "### Correction"
   ]
  },
  {
   "cell_type": "code",
   "execution_count": 83,
   "outputs": [
    {
     "name": "stdout",
     "output_type": "stream",
     "text": [
      "accuracy on the best2 test subset: 0.47\n"
     ]
    }
   ],
   "source": [
    "model = LinearDiscriminantAnalysis()\n",
    "model.fit(X_train_best2, y_train)\n",
    "\n",
    "X_test_best2 = kBestMutualInfo.transform(X_test)\n",
    "print(f\"accuracy on the best2 test subset: {model.score(X_test_best2, y_test):.2f}\")"
   ],
   "metadata": {
    "collapsed": false
   }
  },
  {
   "cell_type": "markdown",
   "id": "05881778",
   "metadata": {},
   "source": [
    "Pour l'échatillon expérimenté (faible nombre d'observations), on ne peut pas bien saisir la différence de performance de généralisation du modèle entre les 2 méthodes. En plus on remarque une large différence dans la distribution des variables d'où la nécessité d'une standardisation."
   ]
  },
  {
   "cell_type": "markdown",
   "id": "56c386c1",
   "metadata": {},
   "source": [
    "# Wrapper\n",
    "La famille Wrapper coopère directement avec le modèle prédictif.\n",
    "Choix des variables qui maximisent les performances du modèle.\n",
    "**Inconvénients :**\n",
    "- Coût élevé\n",
    "- Pas de justification théorique de la sélection des variables\n",
    "- Incompréhension des relations de dépendances entre les variables.\n",
    "- La procédure de sélection est spécifique au modèle utilisé.\n",
    "\n",
    "## Sélection séquentielle\n",
    "Un modèle décisionnel doit être développé sur chaque (sous-)ensemble candidat de variables d'entrée et c'est la performance du modèle qui caractérise le (sous-)ensemble de variable. Deux versions sont proposées, une incrémentale (*Forward-SFS*) et une décrémentale (*Backward-SFS*).\n",
    "[Voir plus](https://scikit-learn.org/stable/modules/feature_selection.html#sequential-feature-selection)"
   ]
  },
  {
   "cell_type": "markdown",
   "id": "96ccdf04",
   "metadata": {},
   "source": [
    "## Elimination récursive de variables\n",
    "**Principe:** apprentissage du modèle sur la totalité des variables d'entrée pour extraire la pertinence de chaque variable (variance).\n",
    "[Voir plus](https://scikit-learn.org/stable/modules/feature_selection.html#recursive-feature-elimination)\n",
    "\n",
    "## Sélection avec SelectFromModel\n",
    "**Principe:** apprentissage du modèle sur la totalité des variables d'entrée pour extraire la pertinence de chaque variable (variance).\n",
    "[Voir plus](https://scikit-learn.org/stable/modules/feature_selection.html#feature-selection-using-selectfrommodel)"
   ]
  },
  {
   "cell_type": "markdown",
   "id": "9c0c0813",
   "metadata": {},
   "source": [
    "# Embedding\n",
    "L'embedding (ou l'intégration) est une opération de sélection qui est intégrée à la méthode de construction de modèle. Pas de sur-coût par rapport à la construction du modèle mais cette approche ne peut pas être utilisée avec tout type de modèle.\n"
   ]
  },
  {
   "cell_type": "markdown",
   "source": [
    "# Exercice\n",
    "Quelles sont les meilleures caractéristiques du dataset `sales.csv` qui permettent de prédire au mieux le salaire ?\n",
    "**Note:** Vous pouvez utiliser ce modèle: `from sklearn.linear_model import LinearRegression`\n"
   ],
   "metadata": {
    "collapsed": false
   }
  },
  {
   "cell_type": "markdown",
   "source": [
    "# TP suivant ?\n",
    "TP n°6: La réduction des variables par réduction des dimensions --> ACP.\n"
   ],
   "metadata": {
    "collapsed": false
   }
  }
 ],
 "metadata": {
  "date": 1.6468449935806804E9,
  "filename": "tpSelectionVariables.rst",
  "kernelspec": {
   "display_name": "Python 3 (ipykernel)",
   "language": "python",
   "name": "python3"
  },
  "language_info": {
   "codemirror_mode": {
    "name": "ipython",
    "version": 3
   },
   "file_extension": ".py",
   "mimetype": "text/x-python",
   "name": "python",
   "nbconvert_exporter": "python",
   "pygments_lexer": "ipython3",
   "version": "3.8.13"
  },
  "title": "Travaux pratiques - Sélection de variables"
 },
 "nbformat": 4,
 "nbformat_minor": 5
}
