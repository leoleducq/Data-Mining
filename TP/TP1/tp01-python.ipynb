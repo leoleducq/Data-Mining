{
 "cells": [
  {
   "cell_type": "markdown",
   "id": "5d08690b",
   "metadata": {},
   "source": [
    "# TP n°1 - Prise en main de Python\n",
    "\n",
    "## Introduction\n",
    "\n",
    "**Objectif de ce premier TP :**\n",
    "- Se familiariser avec le langage Python;\n",
    "- Utiliser Python pour la data science.\n",
    "\n",
    "**Références :**\n",
    "- [Site du langage Python](https://www.python.org)\n",
    "- [Documentation Python](https://docs.python.org/fr/3.8/library/index.html)\n",
    "\n",
    "**Quelques caractéristiques de Python :**\n",
    "- Langage de programmation objet;\n",
    "- Typage fort : la conformité aux types est vérifiée;\n",
    "- Typage dynamique : le type est déterminé à l'exécution, une déclaration explicite du type d'une variable n'est pas nécessaire, Python attribue le type à la variable selon sa valeur ;\n",
    "- Sensible à l'indentation : les structures de contrôle n'emploient pas de délimiteurs (comme `begin` et `end`, ou `{` et `}`), tout est basé sur l'indentation;\n",
    "- Sensible à la casse : différence entre majuscules et minuscules.\n",
    "\n",
    "**Quelques tutoriels supplémentaires :**\n",
    "- [tutoriel Python officiel en français](https://docs.python.org/fr/3/tutorial/)\n",
    "- [Learn Python - Free Interactive Python Tutorial](https://www.learnpython.org/)"
   ]
  },
  {
   "cell_type": "markdown",
   "id": "20972246",
   "metadata": {},
   "source": [
    "## Utilisation du help\n",
    "Cette fonction permet d'avoir l'aide sur une fonction donnée."
   ]
  },
  {
   "cell_type": "code",
   "execution_count": 1,
   "metadata": {
    "collapsed": false
   },
   "outputs": [
    {
     "name": "stdout",
     "output_type": "stream",
     "text": [
      "Help on class str in module builtins:\n",
      "\n",
      "class str(object)\n",
      " |  str(object='') -> str\n",
      " |  str(bytes_or_buffer[, encoding[, errors]]) -> str\n",
      " |  \n",
      " |  Create a new string object from the given object. If encoding or\n",
      " |  errors is specified, then the object must expose a data buffer\n",
      " |  that will be decoded using the given encoding and error handler.\n",
      " |  Otherwise, returns the result of object.__str__() (if defined)\n",
      " |  or repr(object).\n",
      " |  encoding defaults to sys.getdefaultencoding().\n",
      " |  errors defaults to 'strict'.\n",
      " |  \n",
      " |  Methods defined here:\n",
      " |  \n",
      " |  __add__(self, value, /)\n",
      " |      Return self+value.\n",
      " |  \n",
      " |  __contains__(self, key, /)\n",
      " |      Return key in self.\n",
      " |  \n",
      " |  __eq__(self, value, /)\n",
      " |      Return self==value.\n",
      " |  \n",
      " |  __format__(self, format_spec, /)\n",
      " |      Return a formatted version of the string as described by format_spec.\n",
      " |  \n",
      " |  __ge__(self, value, /)\n",
      " |      Return self>=value.\n",
      " |  \n",
      " |  __getattribute__(self, name, /)\n",
      " |      Return getattr(self, name).\n",
      " |  \n",
      " |  __getitem__(self, key, /)\n",
      " |      Return self[key].\n",
      " |  \n",
      " |  __getnewargs__(...)\n",
      " |  \n",
      " |  __gt__(self, value, /)\n",
      " |      Return self>value.\n",
      " |  \n",
      " |  __hash__(self, /)\n",
      " |      Return hash(self).\n",
      " |  \n",
      " |  __iter__(self, /)\n",
      " |      Implement iter(self).\n",
      " |  \n",
      " |  __le__(self, value, /)\n",
      " |      Return self<=value.\n",
      " |  \n",
      " |  __len__(self, /)\n",
      " |      Return len(self).\n",
      " |  \n",
      " |  __lt__(self, value, /)\n",
      " |      Return self<value.\n",
      " |  \n",
      " |  __mod__(self, value, /)\n",
      " |      Return self%value.\n",
      " |  \n",
      " |  __mul__(self, value, /)\n",
      " |      Return self*value.\n",
      " |  \n",
      " |  __ne__(self, value, /)\n",
      " |      Return self!=value.\n",
      " |  \n",
      " |  __repr__(self, /)\n",
      " |      Return repr(self).\n",
      " |  \n",
      " |  __rmod__(self, value, /)\n",
      " |      Return value%self.\n",
      " |  \n",
      " |  __rmul__(self, value, /)\n",
      " |      Return value*self.\n",
      " |  \n",
      " |  __sizeof__(self, /)\n",
      " |      Return the size of the string in memory, in bytes.\n",
      " |  \n",
      " |  __str__(self, /)\n",
      " |      Return str(self).\n",
      " |  \n",
      " |  capitalize(self, /)\n",
      " |      Return a capitalized version of the string.\n",
      " |      \n",
      " |      More specifically, make the first character have upper case and the rest lower\n",
      " |      case.\n",
      " |  \n",
      " |  casefold(self, /)\n",
      " |      Return a version of the string suitable for caseless comparisons.\n",
      " |  \n",
      " |  center(self, width, fillchar=' ', /)\n",
      " |      Return a centered string of length width.\n",
      " |      \n",
      " |      Padding is done using the specified fill character (default is a space).\n",
      " |  \n",
      " |  count(...)\n",
      " |      S.count(sub[, start[, end]]) -> int\n",
      " |      \n",
      " |      Return the number of non-overlapping occurrences of substring sub in\n",
      " |      string S[start:end].  Optional arguments start and end are\n",
      " |      interpreted as in slice notation.\n",
      " |  \n",
      " |  encode(self, /, encoding='utf-8', errors='strict')\n",
      " |      Encode the string using the codec registered for encoding.\n",
      " |      \n",
      " |      encoding\n",
      " |        The encoding in which to encode the string.\n",
      " |      errors\n",
      " |        The error handling scheme to use for encoding errors.\n",
      " |        The default is 'strict' meaning that encoding errors raise a\n",
      " |        UnicodeEncodeError.  Other possible values are 'ignore', 'replace' and\n",
      " |        'xmlcharrefreplace' as well as any other name registered with\n",
      " |        codecs.register_error that can handle UnicodeEncodeErrors.\n",
      " |  \n",
      " |  endswith(...)\n",
      " |      S.endswith(suffix[, start[, end]]) -> bool\n",
      " |      \n",
      " |      Return True if S ends with the specified suffix, False otherwise.\n",
      " |      With optional start, test S beginning at that position.\n",
      " |      With optional end, stop comparing S at that position.\n",
      " |      suffix can also be a tuple of strings to try.\n",
      " |  \n",
      " |  expandtabs(self, /, tabsize=8)\n",
      " |      Return a copy where all tab characters are expanded using spaces.\n",
      " |      \n",
      " |      If tabsize is not given, a tab size of 8 characters is assumed.\n",
      " |  \n",
      " |  find(...)\n",
      " |      S.find(sub[, start[, end]]) -> int\n",
      " |      \n",
      " |      Return the lowest index in S where substring sub is found,\n",
      " |      such that sub is contained within S[start:end].  Optional\n",
      " |      arguments start and end are interpreted as in slice notation.\n",
      " |      \n",
      " |      Return -1 on failure.\n",
      " |  \n",
      " |  format(...)\n",
      " |      S.format(*args, **kwargs) -> str\n",
      " |      \n",
      " |      Return a formatted version of S, using substitutions from args and kwargs.\n",
      " |      The substitutions are identified by braces ('{' and '}').\n",
      " |  \n",
      " |  format_map(...)\n",
      " |      S.format_map(mapping) -> str\n",
      " |      \n",
      " |      Return a formatted version of S, using substitutions from mapping.\n",
      " |      The substitutions are identified by braces ('{' and '}').\n",
      " |  \n",
      " |  index(...)\n",
      " |      S.index(sub[, start[, end]]) -> int\n",
      " |      \n",
      " |      Return the lowest index in S where substring sub is found,\n",
      " |      such that sub is contained within S[start:end].  Optional\n",
      " |      arguments start and end are interpreted as in slice notation.\n",
      " |      \n",
      " |      Raises ValueError when the substring is not found.\n",
      " |  \n",
      " |  isalnum(self, /)\n",
      " |      Return True if the string is an alpha-numeric string, False otherwise.\n",
      " |      \n",
      " |      A string is alpha-numeric if all characters in the string are alpha-numeric and\n",
      " |      there is at least one character in the string.\n",
      " |  \n",
      " |  isalpha(self, /)\n",
      " |      Return True if the string is an alphabetic string, False otherwise.\n",
      " |      \n",
      " |      A string is alphabetic if all characters in the string are alphabetic and there\n",
      " |      is at least one character in the string.\n",
      " |  \n",
      " |  isascii(self, /)\n",
      " |      Return True if all characters in the string are ASCII, False otherwise.\n",
      " |      \n",
      " |      ASCII characters have code points in the range U+0000-U+007F.\n",
      " |      Empty string is ASCII too.\n",
      " |  \n",
      " |  isdecimal(self, /)\n",
      " |      Return True if the string is a decimal string, False otherwise.\n",
      " |      \n",
      " |      A string is a decimal string if all characters in the string are decimal and\n",
      " |      there is at least one character in the string.\n",
      " |  \n",
      " |  isdigit(self, /)\n",
      " |      Return True if the string is a digit string, False otherwise.\n",
      " |      \n",
      " |      A string is a digit string if all characters in the string are digits and there\n",
      " |      is at least one character in the string.\n",
      " |  \n",
      " |  isidentifier(self, /)\n",
      " |      Return True if the string is a valid Python identifier, False otherwise.\n",
      " |      \n",
      " |      Call keyword.iskeyword(s) to test whether string s is a reserved identifier,\n",
      " |      such as \"def\" or \"class\".\n",
      " |  \n",
      " |  islower(self, /)\n",
      " |      Return True if the string is a lowercase string, False otherwise.\n",
      " |      \n",
      " |      A string is lowercase if all cased characters in the string are lowercase and\n",
      " |      there is at least one cased character in the string.\n",
      " |  \n",
      " |  isnumeric(self, /)\n",
      " |      Return True if the string is a numeric string, False otherwise.\n",
      " |      \n",
      " |      A string is numeric if all characters in the string are numeric and there is at\n",
      " |      least one character in the string.\n",
      " |  \n",
      " |  isprintable(self, /)\n",
      " |      Return True if the string is printable, False otherwise.\n",
      " |      \n",
      " |      A string is printable if all of its characters are considered printable in\n",
      " |      repr() or if it is empty.\n",
      " |  \n",
      " |  isspace(self, /)\n",
      " |      Return True if the string is a whitespace string, False otherwise.\n",
      " |      \n",
      " |      A string is whitespace if all characters in the string are whitespace and there\n",
      " |      is at least one character in the string.\n",
      " |  \n",
      " |  istitle(self, /)\n",
      " |      Return True if the string is a title-cased string, False otherwise.\n",
      " |      \n",
      " |      In a title-cased string, upper- and title-case characters may only\n",
      " |      follow uncased characters and lowercase characters only cased ones.\n",
      " |  \n",
      " |  isupper(self, /)\n",
      " |      Return True if the string is an uppercase string, False otherwise.\n",
      " |      \n",
      " |      A string is uppercase if all cased characters in the string are uppercase and\n",
      " |      there is at least one cased character in the string.\n",
      " |  \n",
      " |  join(self, iterable, /)\n",
      " |      Concatenate any number of strings.\n",
      " |      \n",
      " |      The string whose method is called is inserted in between each given string.\n",
      " |      The result is returned as a new string.\n",
      " |      \n",
      " |      Example: '.'.join(['ab', 'pq', 'rs']) -> 'ab.pq.rs'\n",
      " |  \n",
      " |  ljust(self, width, fillchar=' ', /)\n",
      " |      Return a left-justified string of length width.\n",
      " |      \n",
      " |      Padding is done using the specified fill character (default is a space).\n",
      " |  \n",
      " |  lower(self, /)\n",
      " |      Return a copy of the string converted to lowercase.\n",
      " |  \n",
      " |  lstrip(self, chars=None, /)\n",
      " |      Return a copy of the string with leading whitespace removed.\n",
      " |      \n",
      " |      If chars is given and not None, remove characters in chars instead.\n",
      " |  \n",
      " |  partition(self, sep, /)\n",
      " |      Partition the string into three parts using the given separator.\n",
      " |      \n",
      " |      This will search for the separator in the string.  If the separator is found,\n",
      " |      returns a 3-tuple containing the part before the separator, the separator\n",
      " |      itself, and the part after it.\n",
      " |      \n",
      " |      If the separator is not found, returns a 3-tuple containing the original string\n",
      " |      and two empty strings.\n",
      " |  \n",
      " |  removeprefix(self, prefix, /)\n",
      " |      Return a str with the given prefix string removed if present.\n",
      " |      \n",
      " |      If the string starts with the prefix string, return string[len(prefix):].\n",
      " |      Otherwise, return a copy of the original string.\n",
      " |  \n",
      " |  removesuffix(self, suffix, /)\n",
      " |      Return a str with the given suffix string removed if present.\n",
      " |      \n",
      " |      If the string ends with the suffix string and that suffix is not empty,\n",
      " |      return string[:-len(suffix)]. Otherwise, return a copy of the original\n",
      " |      string.\n",
      " |  \n",
      " |  replace(self, old, new, count=-1, /)\n",
      " |      Return a copy with all occurrences of substring old replaced by new.\n",
      " |      \n",
      " |        count\n",
      " |          Maximum number of occurrences to replace.\n",
      " |          -1 (the default value) means replace all occurrences.\n",
      " |      \n",
      " |      If the optional argument count is given, only the first count occurrences are\n",
      " |      replaced.\n",
      " |  \n",
      " |  rfind(...)\n",
      " |      S.rfind(sub[, start[, end]]) -> int\n",
      " |      \n",
      " |      Return the highest index in S where substring sub is found,\n",
      " |      such that sub is contained within S[start:end].  Optional\n",
      " |      arguments start and end are interpreted as in slice notation.\n",
      " |      \n",
      " |      Return -1 on failure.\n",
      " |  \n",
      " |  rindex(...)\n",
      " |      S.rindex(sub[, start[, end]]) -> int\n",
      " |      \n",
      " |      Return the highest index in S where substring sub is found,\n",
      " |      such that sub is contained within S[start:end].  Optional\n",
      " |      arguments start and end are interpreted as in slice notation.\n",
      " |      \n",
      " |      Raises ValueError when the substring is not found.\n",
      " |  \n",
      " |  rjust(self, width, fillchar=' ', /)\n",
      " |      Return a right-justified string of length width.\n",
      " |      \n",
      " |      Padding is done using the specified fill character (default is a space).\n",
      " |  \n",
      " |  rpartition(self, sep, /)\n",
      " |      Partition the string into three parts using the given separator.\n",
      " |      \n",
      " |      This will search for the separator in the string, starting at the end. If\n",
      " |      the separator is found, returns a 3-tuple containing the part before the\n",
      " |      separator, the separator itself, and the part after it.\n",
      " |      \n",
      " |      If the separator is not found, returns a 3-tuple containing two empty strings\n",
      " |      and the original string.\n",
      " |  \n",
      " |  rsplit(self, /, sep=None, maxsplit=-1)\n",
      " |      Return a list of the substrings in the string, using sep as the separator string.\n",
      " |      \n",
      " |        sep\n",
      " |          The separator used to split the string.\n",
      " |      \n",
      " |          When set to None (the default value), will split on any whitespace\n",
      " |          character (including \\\\n \\\\r \\\\t \\\\f and spaces) and will discard\n",
      " |          empty strings from the result.\n",
      " |        maxsplit\n",
      " |          Maximum number of splits (starting from the left).\n",
      " |          -1 (the default value) means no limit.\n",
      " |      \n",
      " |      Splitting starts at the end of the string and works to the front.\n",
      " |  \n",
      " |  rstrip(self, chars=None, /)\n",
      " |      Return a copy of the string with trailing whitespace removed.\n",
      " |      \n",
      " |      If chars is given and not None, remove characters in chars instead.\n",
      " |  \n",
      " |  split(self, /, sep=None, maxsplit=-1)\n",
      " |      Return a list of the substrings in the string, using sep as the separator string.\n",
      " |      \n",
      " |        sep\n",
      " |          The separator used to split the string.\n",
      " |      \n",
      " |          When set to None (the default value), will split on any whitespace\n",
      " |          character (including \\\\n \\\\r \\\\t \\\\f and spaces) and will discard\n",
      " |          empty strings from the result.\n",
      " |        maxsplit\n",
      " |          Maximum number of splits (starting from the left).\n",
      " |          -1 (the default value) means no limit.\n",
      " |      \n",
      " |      Note, str.split() is mainly useful for data that has been intentionally\n",
      " |      delimited.  With natural text that includes punctuation, consider using\n",
      " |      the regular expression module.\n",
      " |  \n",
      " |  splitlines(self, /, keepends=False)\n",
      " |      Return a list of the lines in the string, breaking at line boundaries.\n",
      " |      \n",
      " |      Line breaks are not included in the resulting list unless keepends is given and\n",
      " |      true.\n",
      " |  \n",
      " |  startswith(...)\n",
      " |      S.startswith(prefix[, start[, end]]) -> bool\n",
      " |      \n",
      " |      Return True if S starts with the specified prefix, False otherwise.\n",
      " |      With optional start, test S beginning at that position.\n",
      " |      With optional end, stop comparing S at that position.\n",
      " |      prefix can also be a tuple of strings to try.\n",
      " |  \n",
      " |  strip(self, chars=None, /)\n",
      " |      Return a copy of the string with leading and trailing whitespace removed.\n",
      " |      \n",
      " |      If chars is given and not None, remove characters in chars instead.\n",
      " |  \n",
      " |  swapcase(self, /)\n",
      " |      Convert uppercase characters to lowercase and lowercase characters to uppercase.\n",
      " |  \n",
      " |  title(self, /)\n",
      " |      Return a version of the string where each word is titlecased.\n",
      " |      \n",
      " |      More specifically, words start with uppercased characters and all remaining\n",
      " |      cased characters have lower case.\n",
      " |  \n",
      " |  translate(self, table, /)\n",
      " |      Replace each character in the string using the given translation table.\n",
      " |      \n",
      " |        table\n",
      " |          Translation table, which must be a mapping of Unicode ordinals to\n",
      " |          Unicode ordinals, strings, or None.\n",
      " |      \n",
      " |      The table must implement lookup/indexing via __getitem__, for instance a\n",
      " |      dictionary or list.  If this operation raises LookupError, the character is\n",
      " |      left untouched.  Characters mapped to None are deleted.\n",
      " |  \n",
      " |  upper(self, /)\n",
      " |      Return a copy of the string converted to uppercase.\n",
      " |  \n",
      " |  zfill(self, width, /)\n",
      " |      Pad a numeric string with zeros on the left, to fill a field of the given width.\n",
      " |      \n",
      " |      The string is never truncated.\n",
      " |  \n",
      " |  ----------------------------------------------------------------------\n",
      " |  Static methods defined here:\n",
      " |  \n",
      " |  __new__(*args, **kwargs) from builtins.type\n",
      " |      Create and return a new object.  See help(type) for accurate signature.\n",
      " |  \n",
      " |  maketrans(...)\n",
      " |      Return a translation table usable for str.translate().\n",
      " |      \n",
      " |      If there is only one argument, it must be a dictionary mapping Unicode\n",
      " |      ordinals (integers) or characters to Unicode ordinals, strings or None.\n",
      " |      Character keys will be then converted to ordinals.\n",
      " |      If there are two arguments, they must be strings of equal length, and\n",
      " |      in the resulting dictionary, each character in x will be mapped to the\n",
      " |      character at the same position in y. If there is a third argument, it\n",
      " |      must be a string, whose characters will be mapped to None in the result.\n",
      "\n"
     ]
    }
   ],
   "source": [
    "help(str)"
   ]
  },
  {
   "cell_type": "markdown",
   "id": "78f64be0",
   "metadata": {},
   "source": [
    "## Variables et types de données\n",
    "\n",
    "Les types primitifs dans Python sont :\n",
    "- bool : booléen (True ou False)\n",
    "- int : entier.\n",
    "- float : nombre flottant qui a la précision d'un double.\n",
    "- str : chaîne de caractère (string).\n",
    "- tuple (vecteur)\n",
    "- list\n",
    "\n",
    "La conversion d'un type à un autre se fait à travers les fonctions:\n",
    "- str()\n",
    "- int()\n",
    "- float()\n",
    "- bool()\n",
    "- tuple()\n",
    "- list()"
   ]
  },
  {
   "cell_type": "code",
   "execution_count": 2,
   "id": "20caa472",
   "metadata": {
    "hide-output": false
   },
   "outputs": [
    {
     "name": "stdout",
     "output_type": "stream",
     "text": [
      "x = 1 et le type de x est: <class 'int'>\n"
     ]
    }
   ],
   "source": [
    "# Affectation des valeurs aux variables\n",
    "x = 1\n",
    "print(f\"x = {x} et le type de x est: {type(x)}\")"
   ]
  },
  {
   "cell_type": "code",
   "execution_count": 22,
   "metadata": {
    "collapsed": false
   },
   "outputs": [],
   "source": [
    "# Calculer avec des variables\n",
    "a = 10\n",
    "b = 2\n",
    "c = a + b # somme\n",
    "d = a - b # soustraction\n",
    "e = a * b # multiplication\n",
    "f = a ** b # a exponentiel b\n",
    "g = a % b # modulo (reste de la division entière de a par b)\n",
    "h = a / b # division"
   ]
  },
  {
   "cell_type": "markdown",
   "metadata": {
    "collapsed": false
   },
   "source": [
    "## Les chaînes de caractères"
   ]
  },
  {
   "cell_type": "code",
   "execution_count": 23,
   "metadata": {
    "collapsed": false
   },
   "outputs": [
    {
     "name": "stdout",
     "output_type": "stream",
     "text": [
      "bonjour les amis\n",
      "chaine * 2 : bonjour les amisbonjour les amis\n",
      "concaténation : bonjour les amis, bonne année 2023\n",
      "ma chaine 'bonjour les amis' contient la lettre z : False\n",
      "premier caractère de ma chaine: b\n",
      "3 premiers caractères de ma chaine: bon\n"
     ]
    },
    {
     "data": {
      "text/plain": [
       "'bonjour les amis'"
      ]
     },
     "execution_count": 23,
     "metadata": {},
     "output_type": "execute_result"
    }
   ],
   "source": [
    "chaine = \"bonjour les amis\"\n",
    "print(chaine)\n",
    "\n",
    "# Opérations sur les string\n",
    "print(f\"chaine * 2 : {chaine * 2}\")\n",
    "print(f\"concaténation : {chaine + ', bonne année 2023'}\")\n",
    "print(f\"ma chaine '{chaine}' contient la lettre z : {'z' in chaine}\")\n",
    "print(f\"premier caractère de ma chaine: {chaine[0]}\")\n",
    "print(f\"3 premiers caractères de ma chaine: {chaine[0:3]}\")\n",
    "\n",
    "# Quelques méthodes\n",
    "chaine.upper() # to uppercase\n",
    "chaine.lower() # to lowercase\n",
    "chaine.count('z') # compte les occurances de z dans la chaine\n",
    "chaine.replace('b', 'B')\n",
    "chaine.capitalize()\n",
    "chaine.strip() # supprimer les espaces"
   ]
  },
  {
   "cell_type": "markdown",
   "id": "4fe11300",
   "metadata": {},
   "source": [
    "Si l'on veut savoir quelles sont les méthodes de l'objet `x`, on peut utiliser la fonction `dir` :"
   ]
  },
  {
   "cell_type": "code",
   "execution_count": 5,
   "id": "e709403e",
   "metadata": {
    "hide-output": false
   },
   "outputs": [
    {
     "data": {
      "text/plain": [
       "['__abs__',\n",
       " '__add__',\n",
       " '__and__',\n",
       " '__bool__',\n",
       " '__ceil__',\n",
       " '__class__',\n",
       " '__delattr__',\n",
       " '__dir__',\n",
       " '__divmod__',\n",
       " '__doc__',\n",
       " '__eq__',\n",
       " '__float__',\n",
       " '__floor__',\n",
       " '__floordiv__',\n",
       " '__format__',\n",
       " '__ge__',\n",
       " '__getattribute__',\n",
       " '__getnewargs__',\n",
       " '__gt__',\n",
       " '__hash__',\n",
       " '__index__',\n",
       " '__init__',\n",
       " '__init_subclass__',\n",
       " '__int__',\n",
       " '__invert__',\n",
       " '__le__',\n",
       " '__lshift__',\n",
       " '__lt__',\n",
       " '__mod__',\n",
       " '__mul__',\n",
       " '__ne__',\n",
       " '__neg__',\n",
       " '__new__',\n",
       " '__or__',\n",
       " '__pos__',\n",
       " '__pow__',\n",
       " '__radd__',\n",
       " '__rand__',\n",
       " '__rdivmod__',\n",
       " '__reduce__',\n",
       " '__reduce_ex__',\n",
       " '__repr__',\n",
       " '__rfloordiv__',\n",
       " '__rlshift__',\n",
       " '__rmod__',\n",
       " '__rmul__',\n",
       " '__ror__',\n",
       " '__round__',\n",
       " '__rpow__',\n",
       " '__rrshift__',\n",
       " '__rshift__',\n",
       " '__rsub__',\n",
       " '__rtruediv__',\n",
       " '__rxor__',\n",
       " '__setattr__',\n",
       " '__sizeof__',\n",
       " '__str__',\n",
       " '__sub__',\n",
       " '__subclasshook__',\n",
       " '__truediv__',\n",
       " '__trunc__',\n",
       " '__xor__',\n",
       " 'as_integer_ratio',\n",
       " 'bit_length',\n",
       " 'conjugate',\n",
       " 'denominator',\n",
       " 'from_bytes',\n",
       " 'imag',\n",
       " 'numerator',\n",
       " 'real',\n",
       " 'to_bytes']"
      ]
     },
     "execution_count": 5,
     "metadata": {},
     "output_type": "execute_result"
    }
   ],
   "source": [
    "dir(x)\n",
    "# Affiche ['__add__', '__class__', ... 'count', 'index']"
   ]
  },
  {
   "cell_type": "markdown",
   "id": "81056811",
   "metadata": {},
   "source": [
    "### Remarque\n",
    "\n",
    "Les lignes commençant par `#` sont des **commentaires**."
   ]
  },
  {
   "cell_type": "markdown",
   "id": "d1964a8e",
   "metadata": {},
   "source": [
    "Il est possible d'injecter le contenu d'une variable dans une chaîne de caractères en utilisant la fonction `format` :"
   ]
  },
  {
   "cell_type": "code",
   "execution_count": 6,
   "id": "91c14613",
   "metadata": {
    "hide-output": false
   },
   "outputs": [
    {
     "name": "stdout",
     "output_type": "stream",
     "text": [
      "x vaut 1\n"
     ]
    }
   ],
   "source": [
    "# .format() va remplacer le contenu des accolades\n",
    "message = \"x vaut {}\".format(x)\n",
    "print(message)"
   ]
  },
  {
   "cell_type": "markdown",
   "id": "e341d367",
   "metadata": {},
   "source": [
    "On peut également utiliser le format court (*f-strings*, Python 3.6 et ultérieur) :"
   ]
  },
  {
   "cell_type": "code",
   "execution_count": 7,
   "id": "e4e08fcc",
   "metadata": {
    "hide-output": false
   },
   "outputs": [
    {
     "name": "stdout",
     "output_type": "stream",
     "text": [
      "La variable x vaut 10\n"
     ]
    }
   ],
   "source": [
    "x = 10\n",
    "print(f\"La variable x vaut {x}\")"
   ]
  },
  {
   "cell_type": "code",
   "execution_count": 35,
   "id": "b68ac0fe",
   "metadata": {
    "hide-output": false
   },
   "outputs": [],
   "source": [
    "entier = 1\n",
    "reel = 3.14\n",
    "chaine = \"pi\""
   ]
  },
  {
   "cell_type": "markdown",
   "id": "58aca7d1",
   "metadata": {},
   "source": [
    "Un *tuple* peut être composé de données de types différents :"
   ]
  },
  {
   "cell_type": "code",
   "execution_count": 38,
   "id": "a0eb8eff",
   "metadata": {
    "hide-output": false
   },
   "outputs": [
    {
     "name": "stdout",
     "output_type": "stream",
     "text": [
      "(1, 3.14, 'pi')\n",
      "<class 'tuple'>\n"
     ]
    }
   ],
   "source": [
    "v = (entier, reel, chaine)\n",
    "print(v)\n",
    "# (1, 3.14, 'pi')\n",
    "print(type(v))\n",
    "# <class 'tuple'>"
   ]
  },
  {
   "cell_type": "markdown",
   "id": "55358b61",
   "metadata": {},
   "source": [
    "La fonction `type()` permet d'examiner le type d'un objet."
   ]
  },
  {
   "cell_type": "markdown",
   "id": "47312697",
   "metadata": {},
   "source": [
    "### Question\n",
    "\n",
    "Affichez le type des variables `entier`, `reel` et `chaine`."
   ]
  },
  {
   "cell_type": "code",
   "execution_count": 40,
   "id": "31009caf",
   "metadata": {},
   "outputs": [
    {
     "name": "stdout",
     "output_type": "stream",
     "text": [
      " Type entier : <class 'int'>\n",
      " Type reel : <class 'float'>\n",
      " Type chaine : <class 'str'>\n",
      "[<class 'int'>, <class 'float'>, <class 'str'>]\n"
     ]
    }
   ],
   "source": [
    "print(f\" Type entier : {type(entier)}\\n Type reel : {type(reel)}\\n Type chaine : {type(chaine)}\")\n",
    "print([type(i) for i in v])"
   ]
  },
  {
   "cell_type": "markdown",
   "id": "32052983",
   "metadata": {},
   "source": [
    "### Correction"
   ]
  },
  {
   "cell_type": "code",
   "execution_count": 1,
   "id": "30720f15",
   "metadata": {
    "hide-output": false
   },
   "outputs": [],
   "source": []
  },
  {
   "cell_type": "markdown",
   "id": "d3238f67",
   "metadata": {},
   "source": [
    "Les délimiteurs d'une chaîne de caractères peuvent être soit les `\"`, soit les `'` ; ce qui compte c'est la cohérence entre le début et la fin de la chaîne :"
   ]
  },
  {
   "cell_type": "code",
   "execution_count": null,
   "id": "9c742047",
   "metadata": {
    "hide-output": false,
    "pycharm": {
     "is_executing": true
    }
   },
   "outputs": [],
   "source": [
    "name = \"toto\"\n",
    "print(name)\n",
    "# 'toto'\n",
    "name = 'toto'\n",
    "print(name)\n",
    "# 'toto'\n",
    "name = \"toto' # Erreur, il faut utiliser les mêmes guillemets pour ouvrir et fermer la chaîne !!"
   ]
  },
  {
   "cell_type": "markdown",
   "id": "4b7be4f8",
   "metadata": {},
   "source": [
    "Il est possible de forcer la conversion d'un type à un autre en appelant la fonction du même :"
   ]
  },
  {
   "cell_type": "code",
   "execution_count": null,
   "id": "801ff106",
   "metadata": {
    "hide-output": false
   },
   "outputs": [],
   "source": [
    "nombre = 1764\n",
    "chaine = str(1764)\n",
    "print(nombre, type(nombre))\n",
    "print(chaine, type(chaine))"
   ]
  },
  {
   "cell_type": "code",
   "execution_count": null,
   "id": "bb0e159a",
   "metadata": {
    "hide-output": false
   },
   "outputs": [],
   "source": [
    "chaine = \"42.3\"\n",
    "nombre = float(chaine)\n",
    "print(chaine, type(chaine))\n",
    "print(nombre, type(nombre))"
   ]
  },
  {
   "cell_type": "markdown",
   "id": "61cdd8d3",
   "metadata": {},
   "source": [
    "## Les listes\n",
    "\n",
    "Les types de base modifiables (*mutable*) sont les **listes** et les **dictionnaires**."
   ]
  },
  {
   "cell_type": "code",
   "execution_count": null,
   "id": "283f1725",
   "metadata": {
    "hide-output": false
   },
   "outputs": [],
   "source": [
    "liste = [entier, reel, chaine]\n",
    "print(liste)\n",
    "print(type(liste))\n",
    "print(liste[0])\n",
    "print(liste[2])\n",
    "print(liste[3]) # Erreur !"
   ]
  },
  {
   "cell_type": "markdown",
   "id": "c792c9d4",
   "metadata": {},
   "source": [
    "Les indices négatifs permettent d'accéder aux éléments en commençant par la fin de la liste :"
   ]
  },
  {
   "cell_type": "code",
   "execution_count": null,
   "id": "27378b49",
   "metadata": {
    "hide-output": false
   },
   "outputs": [],
   "source": [
    "print(liste[-1])\n",
    "print(liste[-2])"
   ]
  },
  {
   "cell_type": "markdown",
   "id": "7a16587f",
   "metadata": {},
   "source": [
    "Le symbole `:` permet d'effectuer du *slicing*, c'est-à-dire de découper des sous-listes :"
   ]
  },
  {
   "cell_type": "code",
   "execution_count": null,
   "id": "153e1839",
   "metadata": {
    "hide-output": false
   },
   "outputs": [],
   "source": [
    "print(liste[:1]) # Extrait la sous-liste de tous les éléments jusqu'à 1 (exclu)\n",
    "print(liste[:2]) # Extrait la sous-liste de tous les éléments jusqu'à 2 (exclu)\n",
    "\n",
    "print(liste[:-1]) # Extrait la sous-liste jusqu'au dernier élément (exclu)\n",
    "print(liste[:3])\n",
    "print(liste[0:]) # Extrait la sous-liste à partir du premier élément (inclus)\n",
    "print(liste[1:]) # Extrait la sous-liste à partir du deuxième élément (inclus)"
   ]
  },
  {
   "cell_type": "markdown",
   "id": "bb9bdc4b",
   "metadata": {},
   "source": [
    "Plusieurs méthodes utiles pour les listes, examinez-les avec `help(liste)` :"
   ]
  },
  {
   "cell_type": "code",
   "execution_count": null,
   "id": "c0cc9753",
   "metadata": {
    "hide-output": false
   },
   "outputs": [],
   "source": [
    "# Concaténation de listes\n",
    "print(liste + liste)"
   ]
  },
  {
   "cell_type": "code",
   "execution_count": null,
   "id": "94f13880",
   "metadata": {
    "hide-output": false
   },
   "outputs": [],
   "source": [
    "# Longueur d'une liste\n",
    "len(liste)"
   ]
  },
  {
   "cell_type": "code",
   "execution_count": null,
   "id": "2adf2a83",
   "metadata": {
    "hide-output": false
   },
   "outputs": [],
   "source": [
    "# Minimum et maximum d'une liste\n",
    "print(min([3, 10, 1, 5, 24]))\n",
    "print(max([1.24, -12.0, 5.99]))\n",
    "\n",
    "# Attention, erreur si les éléments ne sont pas comparables :\n",
    "print(min(['pi', '12', 3, 1]))\n",
    "# Traceback (most recent call last):\n",
    "#   File \"<stdin>\", line 1, in <module>\n",
    "# TypeError: '<' not supported between instances of 'int' and 'str'"
   ]
  },
  {
   "cell_type": "code",
   "execution_count": null,
   "id": "9f8cbbd2",
   "metadata": {
    "hide-output": false
   },
   "outputs": [],
   "source": [
    "# Nombre d'occurrences d'un élément dans une liste\n",
    "liste = [3.14, 12, 0, 3.14, 9, 3.14, 7]\n",
    "liste.count(3.14)"
   ]
  },
  {
   "cell_type": "code",
   "execution_count": null,
   "id": "ade0d4b9",
   "metadata": {
    "hide-output": false
   },
   "outputs": [],
   "source": [
    "# Tri d'une liste en ordre croissant\n",
    "liste.sort()\n",
    "print(liste)\n",
    "# Avec copie\n",
    "liste2 = sorted(liste)"
   ]
  },
  {
   "cell_type": "code",
   "execution_count": null,
   "id": "c1d24377",
   "metadata": {
    "hide-output": false
   },
   "outputs": [],
   "source": [
    "# Suppression d'un élément de la liste\n",
    "del liste[1]\n",
    "print(liste)"
   ]
  },
  {
   "cell_type": "code",
   "execution_count": null,
   "id": "3d98c13f",
   "metadata": {
    "hide-output": false
   },
   "outputs": [],
   "source": [
    "# Cherche la position de l'élément dans la liste\n",
    "print(liste.index(3.14))\n",
    "# 1\n",
    "print(liste.index(9))\n",
    "# 4"
   ]
  },
  {
   "cell_type": "code",
   "execution_count": null,
   "id": "0a7eaf28",
   "metadata": {
    "hide-output": false
   },
   "outputs": [],
   "source": [
    "# Renverse une liste\n",
    "liste.reverse()\n",
    "print(liste)\n",
    "# [12, 9, 7, 3.14, 3.14, 0]"
   ]
  },
  {
   "cell_type": "markdown",
   "id": "ae71ef86",
   "metadata": {},
   "source": [
    "Considérons une nouvelle liste :"
   ]
  },
  {
   "cell_type": "code",
   "execution_count": 70,
   "id": "3be44df3",
   "metadata": {
    "hide-output": false
   },
   "outputs": [
    {
     "name": "stdout",
     "output_type": "stream",
     "text": [
      "[0, 1, 2, 3, 4, 5, 6, 7, 8, 9]\n"
     ]
    }
   ],
   "source": [
    "liste = [0, 2, 1, 9, 4, 5, 6, 8, 7, 3]\n"
   ]
  },
  {
   "cell_type": "markdown",
   "id": "bb16bf11",
   "metadata": {},
   "source": [
    "### Question\n",
    "\n",
    "En utilisant les fonctions vues ci-dessus, transformez `liste` pour obtenir les chiffres de **1 à 9 dans l'ordre décroissant**."
   ]
  },
  {
   "cell_type": "code",
   "execution_count": 64,
   "id": "747a67c0",
   "metadata": {},
   "outputs": [
    {
     "name": "stdout",
     "output_type": "stream",
     "text": [
      "[9, 8, 7, 6, 5, 4, 3, 2]\n",
      "[9, 8, 7, 6, 5, 4, 3, 2]\n"
     ]
    }
   ],
   "source": [
    "print([i for i in reversed(sorted(liste))if i > 1])\n",
    "print([i for i in sorted(liste, reverse=True) if i > 1])"
   ]
  },
  {
   "cell_type": "markdown",
   "id": "07f00fc7",
   "metadata": {},
   "source": [
    "### Correction"
   ]
  },
  {
   "cell_type": "code",
   "execution_count": null,
   "id": "38f981d0",
   "metadata": {
    "hide-output": false
   },
   "outputs": [],
   "source": []
  },
  {
   "cell_type": "markdown",
   "id": "ac6f52d8",
   "metadata": {},
   "source": [
    "## Les dictionnaires\n",
    "\n",
    "Les dictionnaires sont des tableaux associatifs, autrement dit des ensembles de paires `{clé : valeur}`, par exemple :"
   ]
  },
  {
   "cell_type": "code",
   "execution_count": null,
   "id": "715478e7",
   "metadata": {
    "hide-output": false
   },
   "outputs": [],
   "source": [
    "cours = { 'data mining' : 2022, 'ml' : 2023, 'cloud' : 2024 }\n",
    "print(cours)\n",
    "print(cours['data mining'])\n",
    "cours['software']  # Erreur ! La clé n'existe pas\n",
    "# Traceback (most recent call last):\n",
    "#  File \"<stdin>\", line 1, in <module>\n",
    "# KeyError: 'software'"
   ]
  },
  {
   "cell_type": "markdown",
   "id": "cabb4da9",
   "metadata": {},
   "source": [
    "Il est possible de mélanger les types dans un dictionnaire (dans les clés et dans les valeurs), ainsi que d'avoir des valeurs qui sont des tuples ou des listes (ou des listes de listes, etc.) :"
   ]
  },
  {
   "cell_type": "code",
   "execution_count": null,
   "id": "be0625a3",
   "metadata": {
    "hide-output": false
   },
   "outputs": [],
   "source": [
    "dico = { 1 : 'toto', 'titi' : 10, 1000 : (1,2,3) }"
   ]
  },
  {
   "cell_type": "code",
   "execution_count": 47,
   "id": "3553f955",
   "metadata": {
    "hide-output": false
   },
   "outputs": [],
   "source": [
    "dico = { 1 : 'toto', 'titi' : 10, 1000 : [(1,2,3),['A','b']]}"
   ]
  },
  {
   "cell_type": "markdown",
   "id": "dc04c77a",
   "metadata": {},
   "source": [
    "Plusieurs méthodes spécifiques aux dictionnaires peuvent être utiles, par exemple :"
   ]
  },
  {
   "cell_type": "code",
   "execution_count": 48,
   "id": "01189836",
   "metadata": {
    "hide-output": false
   },
   "outputs": [
    {
     "name": "stdout",
     "output_type": "stream",
     "text": [
      "dict_keys([1, 'titi', 1000])\n",
      "dict_values(['toto', 10, [(1, 2, 3), ['A', 'b']]])\n",
      "dict_items([(1, 'toto'), ('titi', 10), (1000, [(1, 2, 3), ['A', 'b']])])\n"
     ]
    }
   ],
   "source": [
    "print(dico.keys())\n",
    "\n",
    "print(dico.values())\n",
    "\n",
    "print(dico.items())"
   ]
  },
  {
   "cell_type": "markdown",
   "id": "99928174",
   "metadata": {},
   "source": [
    "### Question\n",
    "\n",
    "Que retourne chacune de ces méthodes ?"
   ]
  },
  {
   "attachments": {},
   "cell_type": "markdown",
   "id": "8d1f0a22",
   "metadata": {},
   "source": [
    "La méthode keys renvoie les clés du dictionnaire sous forme d'une liste.\n",
    "La méthode values renvoie les valeurs du dictionnaire sous forme d'une liste.\n",
    "La méthode items renvoie les paires clé-valeur du dictionnaire sous forme d'une liste de tuples."
   ]
  },
  {
   "cell_type": "markdown",
   "id": "ab4c32a9",
   "metadata": {},
   "source": [
    "### Correction\n",
    "\n"
   ]
  },
  {
   "cell_type": "markdown",
   "metadata": {
    "collapsed": false
   },
   "source": [
    "Pour tenter de clarifier la différence entre ce qui est immuable et ce qui est modifiable, prenons l'exemple suivant :"
   ]
  },
  {
   "cell_type": "code",
   "execution_count": null,
   "id": "8ef974f1",
   "metadata": {
    "hide-output": false
   },
   "outputs": [],
   "source": [
    "valeur = 1\n",
    "liste = []\n",
    "print(liste)\n",
    "# []\n",
    "liste.append(valeur)\n",
    "print(liste)\n",
    "# [1]\n",
    "meme_liste = liste\n",
    "print(meme_liste)\n",
    "# [1]\n",
    "meme_liste.append(3)\n",
    "valeur = 2\n",
    "print(valeur)\n",
    "# 2\n",
    "print(liste)\n",
    "# [1, 3]\n",
    "print(meme_liste)\n",
    "# [1, 3]"
   ]
  },
  {
   "cell_type": "markdown",
   "id": "e87a63b7",
   "metadata": {},
   "source": [
    "Comment expliquer les résultats ? Rappelons d'abord que les « variables » de type `int` sont immuables, alors que celles de type `list` sont modifiables.\n",
    "\n",
    "Dans la première ligne (`valeur = 1`), une association est faite entre le *nom* `valeur` et un objet qui est l'entier `1`. La seconde ligne (`liste = []`) fait une association entre le nom `liste` et un objet qui est une liste vide. L'appel de la méthode `append` dans `liste.append(valeur)` modifie cet objet liste vide en lui ajoutant l'objet désigné par le nom `valeur`. Dans `meme_liste = liste` on ajoute un nouveau nom pour l'objet désigné par `liste`.\n",
    "\n",
    "L'appel `meme_liste.append(3)` modifie l'objet désigné par `meme_liste` (et aussi par `liste`) en lui ajoutant l'objet `3` (un entier). Avec `valeur = 2`, le nom `valeur` n'est plus associé à l'objet auquel il était associé avant (un entier `1`) mais à un nouvel objet (un entier `2`) ; cela ne peut avoir d'impact sur l'objet désigné par `liste` ou `meme_liste`, qui est une liste (vide au départ, ensuite un objet `1` lui a été ajouté, et enfin un objet `3`).\n",
    "\n",
    "Ceci devrait permettre de comprendre aussi le passage de paramètres aux [Fonctions, fonctions anonymes](#fonctions)."
   ]
  },
  {
   "cell_type": "markdown",
   "id": "588b32ba",
   "metadata": {},
   "source": [
    "## Structures de contrôle\n",
    "\n",
    "Pour le contrôle de l'exécution d'un programme il est possible d'utiliser les tests de conditions avec `if` / `elif` / `else` et les boucles `for` ou `while`. Remarquer l'utilisation de `:` avant les lignes qui exigent un niveau d'indentation supérieur (et **obligatoire** !).\n",
    "\n",
    "Les boucles `for` permettent de parcourir n'importe quel itérable, typiquement des listes :"
   ]
  },
  {
   "cell_type": "code",
   "execution_count": null,
   "id": "dcadfff6",
   "metadata": {
    "hide-output": false
   },
   "outputs": [],
   "source": [
    "liste = range(6)\n",
    "\n",
    "for valeur in liste:\n",
    "    if valeur in [0, 2, 4]:\n",
    "        # \"break\" quitte la boucle sans considérer \"else\"\n",
    "        # \"continue\" démarre l'itération suivante\n",
    "        continue\n",
    "    else:\n",
    "        print(valeur,' : impaire')"
   ]
  },
  {
   "cell_type": "markdown",
   "id": "8f2f281b",
   "metadata": {},
   "source": [
    "Les boucles `while` s'exécutent tant qu'une condition est vérifiée :"
   ]
  },
  {
   "cell_type": "code",
   "execution_count": null,
   "id": "12cf68ee",
   "metadata": {
    "hide-output": false,
    "pycharm": {
     "is_executing": true
    }
   },
   "outputs": [],
   "source": [
    "i = 5\n",
    "while i > 0:\n",
    "    print(i)\n",
    "    i = i-1"
   ]
  },
  {
   "cell_type": "markdown",
   "id": "fde4479f",
   "metadata": {},
   "source": [
    "### Question\n",
    "\n",
    "À l'aide d'une boucle, écrire un code qui, pour chaque entier impair x entre 1 et 13, affiche x^2."
   ]
  },
  {
   "cell_type": "code",
   "execution_count": 74,
   "id": "bc14e7d5",
   "metadata": {},
   "outputs": [
    {
     "name": "stdout",
     "output_type": "stream",
     "text": [
      "['1^2 : 1', '3^2 : 9', '5^2 : 25', '7^2 : 49', '9^2 : 81', '11^2 : 121', '13^2 : 169']\n"
     ]
    }
   ],
   "source": [
    "print([f\"{x}^2 : {x**2}\" for x in range(1,14) if x%2 != 0])"
   ]
  },
  {
   "cell_type": "markdown",
   "id": "b26909ea",
   "metadata": {},
   "source": [
    "### Correction"
   ]
  },
  {
   "cell_type": "code",
   "execution_count": null,
   "id": "9cddda2d",
   "metadata": {
    "hide-output": false
   },
   "outputs": [],
   "source": []
  },
  {
   "cell_type": "markdown",
   "id": "b06a4daf",
   "metadata": {},
   "source": [
    "Il n'y a pas d'équivalent de `switch` en Python, il faut employer `if` / `elif` / `else` :"
   ]
  },
  {
   "cell_type": "code",
   "execution_count": null,
   "id": "813377e7",
   "metadata": {
    "hide-output": false
   },
   "outputs": [],
   "source": [
    "if liste[1] == 0:\n",
    "    print('liste[1] est 0')\n",
    "elif liste[1] == 1:\n",
    "    print('liste[1] est 1')\n",
    "else:\n",
    "    print('?')"
   ]
  },
  {
   "cell_type": "markdown",
   "id": "0c4d53e7",
   "metadata": {},
   "source": [
    "Création et manipulation de listes avec la [compréhension de liste](https://docs.python.org/fr/3/tutorial/datastructures.html#list-comprehensions) (*list comprehension*) :"
   ]
  },
  {
   "cell_type": "code",
   "execution_count": 57,
   "id": "c308e7eb",
   "metadata": {
    "hide-output": false
   },
   "outputs": [
    {
     "data": {
      "text/plain": [
       "[1, 2, 3, 2, 4, 6]"
      ]
     },
     "execution_count": 57,
     "metadata": {},
     "output_type": "execute_result"
    }
   ],
   "source": [
    "l1 = [1, 2]\n",
    "l2 = [1, 2, 3]\n",
    "[x * y for x in l1 for y in l2]"
   ]
  },
  {
   "cell_type": "markdown",
   "id": "e4b1aa7d",
   "metadata": {},
   "source": [
    "Forme équivalente :"
   ]
  },
  {
   "cell_type": "code",
   "execution_count": 58,
   "id": "8f2e3fb7",
   "metadata": {
    "hide-output": false
   },
   "outputs": [
    {
     "name": "stdout",
     "output_type": "stream",
     "text": [
      "[1, 2, 3, 2, 4, 6]\n"
     ]
    }
   ],
   "source": [
    "print([x * y for x in l1 for y in l2])"
   ]
  },
  {
   "cell_type": "markdown",
   "id": "42eeb925",
   "metadata": {},
   "source": [
    "Autres exemples :"
   ]
  },
  {
   "cell_type": "code",
   "execution_count": 59,
   "id": "0899c225",
   "metadata": {
    "hide-output": false
   },
   "outputs": [
    {
     "name": "stdout",
     "output_type": "stream",
     "text": [
      "[2, 4, 6]\n",
      "True\n"
     ]
    }
   ],
   "source": [
    "print([x * y for x in l1 if x > 1 for y in l2])\n",
    "print(any([i % 3 for i in [x * y for x in l1 for y in l2]]))"
   ]
  },
  {
   "attachments": {},
   "cell_type": "markdown",
   "id": "911363fa",
   "metadata": {},
   "source": [
    "### Question\n",
    "\n",
    "Expliquez ce que fait chacun de ces exemples.\n",
    "\n",
    "### Réponse\n",
    "\n",
    "Le premier exemple crée une liste de x*y pour chaque x dans l1 si x est supérieur à 1 pour chaque y dans l2.\n",
    "Le deuxième exemple retourne True si il y a au moins un élément dans la liste. La liste est composé des éléments présent dans la liste."
   ]
  },
  {
   "cell_type": "markdown",
   "id": "0bf653ec",
   "metadata": {},
   "source": [
    "### Correction\n"
   ]
  },
  {
   "cell_type": "markdown",
   "id": "aebb6bad",
   "metadata": {},
   "source": [
    "### Question\n",
    "\n",
    "À partir des listes suivantes de mois et respectivement de nombres de jours correspondants, construisez un dictionnaire qui associe à chaque mois son nombre de jours (années non bisextiles)."
   ]
  },
  {
   "cell_type": "code",
   "execution_count": 79,
   "id": "ebc7c7e8",
   "metadata": {
    "hide-output": false
   },
   "outputs": [],
   "source": [
    "mois = ['janvier','février','mars','avril','mai','juin','juillet','août','septembre','octobre','novembre','décembre']\n",
    "nbJours = [31, 28, 31, 30, 31, 30, 31, 31, 30, 31, 30, 31]\n",
    "\n",
    "dico = { mois[i] : nbJours[i] for i in range(len(mois)) }"
   ]
  },
  {
   "cell_type": "markdown",
   "id": "ebf39773",
   "metadata": {},
   "source": [
    "### Correction\n"
   ]
  },
  {
   "cell_type": "code",
   "execution_count": 82,
   "id": "73650da2",
   "metadata": {
    "hide-output": false
   },
   "outputs": [
    {
     "ename": "TypeError",
     "evalue": "'dict' object is not callable",
     "output_type": "error",
     "traceback": [
      "\u001b[1;31m---------------------------------------------------------------------------\u001b[0m",
      "\u001b[1;31mTypeError\u001b[0m                                 Traceback (most recent call last)",
      "Cell \u001b[1;32mIn[82], line 1\u001b[0m\n\u001b[1;32m----> 1\u001b[0m var \u001b[39m=\u001b[39m \u001b[39mdict\u001b[39;49m(\u001b[39mzip\u001b[39;49m(mois, nbJours))\n",
      "\u001b[1;31mTypeError\u001b[0m: 'dict' object is not callable"
     ]
    }
   ],
   "source": [
    "var = dict(zip(mois, nbJours))"
   ]
  },
  {
   "cell_type": "markdown",
   "id": "d7ef1d95",
   "metadata": {},
   "source": [
    "\n",
    "<a id='fonctions'></a>"
   ]
  },
  {
   "cell_type": "markdown",
   "id": "ba882eb6",
   "metadata": {},
   "source": [
    "## Fonctions, fonctions anonymes\n",
    "\n",
    "La définition d'une fonction commence par `def`. Une fonction peut avoir zéro, un ou plusieurs arguments. Les arguments optionnels possèdent des valeurs par défaut. Une fonction peut retourner une valeur (ou un tuple, donc plusieurs valeurs) avec `return` ou non.\n",
    "\n",
    "Le premier exemple ci-dessous devrait aider à comprendre la transmission des paramètres :"
   ]
  },
  {
   "cell_type": "code",
   "execution_count": null,
   "id": "540fee3f",
   "metadata": {
    "hide-output": false
   },
   "outputs": [],
   "source": [
    "def fonction(immuable, modifiable, optionnel='valeur par défaut'):\n",
    "    immuable = 'new'\n",
    "    modifiable.append(4)\n",
    "    print(immuable, modifiable, optionnel)\n",
    "\n",
    "chaine1 = 'old'\n",
    "liste = [1, 2]\n",
    "chaine2 = 'nouvelle valeur'\n",
    "fonction(chaine1, liste, chaine2)\n",
    "# new [1, 2, 4] nouvelle valeur"
   ]
  },
  {
   "cell_type": "markdown",
   "id": "9edb4879",
   "metadata": {},
   "source": [
    "Notre variable `liste` a été modifiée à l'intérieur de la fonction mais pas la variable `chaine1` car les chaînes de caractère sont immuables :"
   ]
  },
  {
   "cell_type": "code",
   "execution_count": null,
   "id": "6293d2b4",
   "metadata": {
    "hide-output": false
   },
   "outputs": [],
   "source": [
    "print(liste)\n",
    "# [1, 2, 4]\n",
    "print(chaine1)\n",
    "# 'old'\n",
    "fonction(chaine1, liste)\n",
    "# new [1, 2, 4, 4] valeur par défaut"
   ]
  },
  {
   "cell_type": "markdown",
   "id": "dec48ae8",
   "metadata": {},
   "source": [
    "L'utilisation de `print` plutôt que l'appel direct permet de voir que la fonction ne retourne rien (`None`) :"
   ]
  },
  {
   "cell_type": "code",
   "execution_count": null,
   "id": "a2072439",
   "metadata": {
    "hide-output": false
   },
   "outputs": [],
   "source": [
    "print(fonction(chaine1, liste, chaine2))\n",
    "# new [1, 2, 4, 4, 4] nouvelle valeur\n",
    "# None"
   ]
  },
  {
   "cell_type": "markdown",
   "id": "ef275822",
   "metadata": {},
   "source": [
    "Ici, `liste` est un nom associé à un objet liste, donc modifiable ; à chaque appel, la fonction ajoute un élément à cet objet. Le nom `chaine1` est associé à un objet de type chaîne de caractères, donc immuable ; dans la fonction, le nom `chaine1` est **localement** associé à un nouvel objet, la chaîne `'new'`, mais cela n'a pas d'impact sur l'association de `chaine1` à l'objet `'old'` à l'extérieur de la fonction.\n",
    "\n",
    "L'exemple suivant montre une fonction qui retourne un tuple :"
   ]
  },
  {
   "cell_type": "code",
   "execution_count": null,
   "id": "9ecc211e",
   "metadata": {
    "hide-output": false
   },
   "outputs": [],
   "source": [
    "def fonction2(immuable, modifiable, optionnel='valeur par défaut'):\n",
    "    immuable = 'new'\n",
    "    modifiable.append(4)\n",
    "    return immuable, modifiable, optionnel\n",
    "\n",
    "chaine1 = 'old'\n",
    "liste = [1, 2]\n",
    "chaine2 = 'nouvelle valeur'\n",
    "print(fonction2(chaine1, liste, chaine2))\n",
    "# ('new', [1, 2, 4], 'nouvelle valeur')"
   ]
  },
  {
   "cell_type": "markdown",
   "id": "3ae89bfd",
   "metadata": {},
   "source": [
    "### Question\n",
    "\n",
    "Écrire une fonction `last_number(x)` qui prend en paramètre un int ou float et renvoie son dernier chiffre. Par exemple, `last_number(0.32)` renvoie 2 et `last_number(13)` renvoie 3."
   ]
  },
  {
   "cell_type": "code",
   "execution_count": 31,
   "id": "ef477c7c",
   "metadata": {},
   "outputs": [
    {
     "name": "stdout",
     "output_type": "stream",
     "text": [
      "4\n"
     ]
    }
   ],
   "source": [
    "def last_number(x):\n",
    "    return int(str(x)[len(str(x))-1])"
   ]
  },
  {
   "cell_type": "markdown",
   "id": "18df973b",
   "metadata": {},
   "source": [
    "### Correction"
   ]
  },
  {
   "cell_type": "code",
   "execution_count": 13,
   "id": "213ed41e",
   "metadata": {
    "hide-output": false
   },
   "outputs": [
    {
     "name": "stdout",
     "output_type": "stream",
     "text": [
      "2\n"
     ]
    }
   ],
   "source": []
  },
  {
   "cell_type": "markdown",
   "id": "9c05b102",
   "metadata": {},
   "source": [
    "Les fonctions lambda ou [fonctions anonymes](https://docs.python.org/fr/3/tutorial/controlflow.html#lambda-expressions) comportent une seule instruction, par exemple :"
   ]
  },
  {
   "cell_type": "code",
   "execution_count": null,
   "id": "a5752396",
   "metadata": {
    "hide-output": false
   },
   "outputs": [],
   "source": [
    "somme = lambda x, y: x + y\n",
    "print(somme(2,3))\n",
    "# 5"
   ]
  },
  {
   "cell_type": "markdown",
   "id": "aecee8a2",
   "metadata": {},
   "source": [
    "Cette définition est une forme abrégée de"
   ]
  },
  {
   "cell_type": "code",
   "execution_count": null,
   "id": "5ebcec30",
   "metadata": {
    "hide-output": false
   },
   "outputs": [],
   "source": [
    "def somme(x, y): return(x + y)"
   ]
  },
  {
   "cell_type": "markdown",
   "id": "359fc882",
   "metadata": {},
   "source": [
    "Il n'est pas indispensable de donner un nom à une fonction lambda :"
   ]
  },
  {
   "cell_type": "code",
   "execution_count": 18,
   "id": "52b2f817",
   "metadata": {
    "hide-output": false
   },
   "outputs": [
    {
     "data": {
      "text/plain": [
       "10"
      ]
     },
     "execution_count": 18,
     "metadata": {},
     "output_type": "execute_result"
    }
   ],
   "source": [
    "(lambda x, y: x + y)(4,6)\n",
    "# 10"
   ]
  },
  {
   "cell_type": "markdown",
   "id": "4679c296",
   "metadata": {},
   "source": [
    "Une fonction lambda sans nom est qualifiée d'anonyme."
   ]
  },
  {
   "cell_type": "markdown",
   "id": "414eaa9b",
   "metadata": {},
   "source": [
    "### Question\n",
    "\n",
    "Écrire une fonction lambda qui renvoie la plus grande des deux valeurs numériques passées en entrée."
   ]
  },
  {
   "cell_type": "code",
   "execution_count": 62,
   "id": "ac826487",
   "metadata": {},
   "outputs": [
    {
     "data": {
      "text/plain": [
       "6"
      ]
     },
     "execution_count": 62,
     "metadata": {},
     "output_type": "execute_result"
    }
   ],
   "source": [
    "(lambda x,y : max(x,y))(4,6)"
   ]
  },
  {
   "cell_type": "markdown",
   "id": "9d46afc7",
   "metadata": {},
   "source": [
    "### Correction"
   ]
  },
  {
   "cell_type": "code",
   "execution_count": 19,
   "id": "427ae0cd",
   "metadata": {
    "hide-output": false
   },
   "outputs": [
    {
     "data": {
      "text/plain": [
       "6"
      ]
     },
     "execution_count": 19,
     "metadata": {},
     "output_type": "execute_result"
    }
   ],
   "source": []
  },
  {
   "cell_type": "markdown",
   "id": "5f4ace9e",
   "metadata": {},
   "source": [
    "## Exceptions\n",
    "\n",
    "Python propose un traitement standard des exceptions. L'exemple suivant indique la syntaxe à employer."
   ]
  },
  {
   "cell_type": "code",
   "execution_count": 25,
   "id": "af02f735",
   "metadata": {
    "hide-output": false
   },
   "outputs": [
    {
     "name": "stdout",
     "output_type": "stream",
     "text": [
      "1.0\n",
      "    fini...\n",
      "Division par 0 !\n",
      "    fini...\n"
     ]
    }
   ],
   "source": [
    "def division_par(n):\n",
    "        try:  # instruction susceptible de lever une exception\n",
    "            print(1 / n)\n",
    "        except ZeroDivisionError:  # si l'exception est levée\n",
    "            print('Division par 0 !')\n",
    "        else:  # sinon\n",
    "            pass\n",
    "        finally:\n",
    "            # exécuté après le bloc \"try\" et le\n",
    "            #  traitement des éventuelles erreurs\n",
    "            print('    fini...')\n",
    "\n",
    "division_par(1)\n",
    "division_par(0)"
   ]
  },
  {
   "cell_type": "markdown",
   "id": "e6afb126",
   "metadata": {},
   "source": [
    "### Question\n",
    "\n",
    "Ajouter une exception au code suivant de sorte à ce qu'il affiche *« Ce mot est absent »* si la clé n'existe pas dans le dictionnaire."
   ]
  },
  {
   "cell_type": "markdown",
   "id": "6b1bcd76",
   "metadata": {},
   "source": [
    "### Correction"
   ]
  },
  {
   "cell_type": "code",
   "execution_count": 84,
   "id": "084efd4d",
   "metadata": {
    "hide-output": false
   },
   "outputs": [
    {
     "name": "stdout",
     "output_type": "stream",
     "text": [
      "a\n",
      "Ce mot est absent : tete\n",
      "i\n",
      "Ce mot est absent : toto\n",
      "u\n"
     ]
    }
   ],
   "source": [
    "d = {\"titi\" : \"i\", \"tata\": \"a\", \"tutu\": \"u\"}\n",
    "mots = [\"tata\", \"tete\", \"titi\", \"toto\", \"tutu\"]\n",
    "for mot in mots : \n",
    "    try : \n",
    "            print(d[mot])\n",
    "    except KeyError: \n",
    "        print(\"Ce mot est absent : {}\".format(mot))\n",
    "# TODO"
   ]
  },
  {
   "cell_type": "markdown",
   "id": "5950581e",
   "metadata": {},
   "source": [
    "## Classes et héritage\n",
    "\n",
    "En Python, on peut définir des variables partagées par toutes les instances d'une classe.\n",
    "**Note:** L'héritage multiple est possible."
   ]
  },
  {
   "cell_type": "code",
   "execution_count": null,
   "id": "f4ecdf56",
   "metadata": {
    "hide-output": false
   },
   "outputs": [],
   "source": [
    "class NouvelleClasse():\n",
    "    attribut_de_classe = ...\n",
    "\n",
    "    def __init__(self):  # constructeur\n",
    "        # ...\n",
    "        pass\n",
    "\n",
    "    def methode(self, arg1, arg2, arg3):  # methode de l'objet\n",
    "        # ...\n",
    "        pass\n",
    "\n",
    "    # ...\n",
    "\n",
    "class NouvelleClasseHeritage(NouvelleClasse):\n",
    "\n",
    "    # ...\n",
    "    pass"
   ]
  },
  {
   "cell_type": "markdown",
   "id": "cefd3976",
   "metadata": {},
   "source": [
    "Création d'une nouvelle instance de la classe :"
   ]
  },
  {
   "cell_type": "code",
   "execution_count": null,
   "id": "8988008f",
   "metadata": {
    "hide-output": false
   },
   "outputs": [],
   "source": [
    "instanceNouvelleClasse = NouvelleClasse()"
   ]
  },
  {
   "cell_type": "markdown",
   "id": "fe90d98e",
   "metadata": {},
   "source": [
    "## Entrées et sorties\n",
    "\n",
    "La fonction native `open` permet d'ouvrir un flux de données depuis un fichier.\n",
    "\n",
    "Cette fonction prend deux arguments : un chemin vers le fichier et le mode de lecture (lecture, écriture, binaire, etc.).\n",
    "\n",
    "Exemple d'accès à un fichier texte :"
   ]
  },
  {
   "cell_type": "code",
   "execution_count": null,
   "id": "a1448928",
   "metadata": {
    "hide-output": false
   },
   "outputs": [],
   "source": [
    "# Ouverture du fichier en mode écriture ('w' pour 'write')\n",
    "fichierTexte = open('texte.txt', 'w')\n",
    "fichierTexte.write('Mon texte à moi\\n')\n",
    "fichierTexte.close()\n",
    "\n",
    "# Ouverture du fichier en mode lecture\n",
    "fichierTexte = open('texte.txt')\n",
    "print(fichierTexte.read())\n",
    "# Mon texte à moi\n",
    "fichierTexte.close()"
   ]
  },
  {
   "cell_type": "markdown",
   "id": "1de50afb",
   "metadata": {},
   "source": [
    "L'instruction `with` permet de ne pas avoir à fermer manuellement le fichier en utilisant un [gestionnaire de contexte](https://docs.python.org/fr/3/reference/compound_stmts.html?highlight=with#the-with-statement)."
   ]
  },
  {
   "cell_type": "code",
   "execution_count": 30,
   "id": "1aa4f42b",
   "metadata": {
    "hide-output": false
   },
   "outputs": [
    {
     "name": "stdout",
     "output_type": "stream",
     "text": [
      "Et une ligne de plus\n",
      "Et une ligne de plus\n",
      "\n"
     ]
    }
   ],
   "source": [
    "# le mode 'a' permet d'ajouter des lignes sans écraser le fichier ('append')\n",
    "with open('texte.txt', 'a') as fichierTexte:\n",
    "    fichierTexte.write('Et une ligne de plus\\n')\n",
    "\n",
    "\n",
    "with open('texte.txt') as fichierTexte:\n",
    "    print(fichierTexte.read())\n",
    "    # Mon texte à moi\n",
    "    # Et une ligne de plus"
   ]
  },
  {
   "cell_type": "markdown",
   "id": "6043730f",
   "metadata": {},
   "source": [
    "Dans ces exemples, les fichiers sont ouverts dans le répertoire dans lequel Python a été lancé. Il est possible de spécifier le chemin avant le nom du fichier."
   ]
  },
  {
   "cell_type": "markdown",
   "id": "2981978b",
   "metadata": {},
   "source": [
    "### Question\n",
    "\n",
    "Quelle conséquence a la suppression du second argument de la fonction `open` ?"
   ]
  },
  {
   "attachments": {},
   "cell_type": "markdown",
   "id": "b86a7b27",
   "metadata": {},
   "source": [
    "Le code ne fonctionnera pas car le mode d'ouverture par défaut est `'r'` (lecture) donc on ne peut pas écrire dans le fichier."
   ]
  },
  {
   "cell_type": "markdown",
   "id": "605fbd3f",
   "metadata": {},
   "source": [
    "### Correction\n"
   ]
  },
  {
   "cell_type": "markdown",
   "id": "882415bf",
   "metadata": {},
   "source": [
    "# TP suivant ?\n",
    "TP n°2: Prise en main des librairies Pandas et Numpy.\n"
   ]
  }
 ],
 "metadata": {
  "date": 1646911521.45328,
  "filename": "tpIntroductionPython.rst",
  "kernelspec": {
   "display_name": "Python 3",
   "language": "python",
   "name": "python3"
  },
  "language_info": {
   "codemirror_mode": {
    "name": "ipython",
    "version": 3
   },
   "file_extension": ".py",
   "mimetype": "text/x-python",
   "name": "python",
   "nbconvert_exporter": "python",
   "pygments_lexer": "ipython3",
   "version": "3.11.1 (tags/v3.11.1:a7a450f, Dec  6 2022, 19:58:39) [MSC v.1934 64 bit (AMD64)]"
  },
  "title": "Travaux pratiques - Introduction à Python",
  "vscode": {
   "interpreter": {
    "hash": "6a3aa03581f91e835e3e6226cbd24d085324464c633eba87e659030a6b0ef25e"
   }
  }
 },
 "nbformat": 4,
 "nbformat_minor": 5
}
